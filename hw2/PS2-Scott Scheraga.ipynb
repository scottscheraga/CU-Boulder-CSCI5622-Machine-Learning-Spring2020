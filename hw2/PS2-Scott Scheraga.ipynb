{
 "cells": [
  {
   "cell_type": "markdown",
   "metadata": {},
   "source": [
    "# Homework 2 - Logistic Regression\n",
    "## CSCI 5622 - Spring 2020\n",
    "***\n",
    "## SCOTT SCHERAGA\n",
    "\n",
    "This assignment is due on Canvas by **11.59 PM on Friday, February 28th**. Submit only this Jupyter notebook to Canvas.  Do not compress it using tar, rar, zip, etc. Your solutions to analysis questions should be done in Markdown directly below the associated question.  Remember that you are encouraged to discuss the problems with your classmates and instructors, but **you must write all code and solutions on your own**, and list any people or sources consulted. The only exception to this rule is that you may copy code directly from your own solution to homework 1."
   ]
  },
  {
   "cell_type": "markdown",
   "metadata": {},
   "source": [
    "## Overview \n",
    "***\n",
    "\n",
    "\n",
    "Your task for this homework is to build a logistic regression model that implements stochastic gradient ascent. You'll apply it to the task of determining whether a number is 8 or 9\n",
    "\n",
    "We start by importing and plotting the given data"
   ]
  },
  {
   "cell_type": "code",
   "execution_count": 1,
   "metadata": {},
   "outputs": [],
   "source": [
    "\n",
    "import matplotlib.pylab as plt\n",
    "import sklearn\n",
    "import sklearn.datasets\n",
    "import math\n",
    "%matplotlib inline "
   ]
  },
  {
   "cell_type": "markdown",
   "metadata": {},
   "source": [
    "### [ 70 points] Problem 1: Implementing the Logistic Regression Classifier for Binary Classification\n",
    "***"
   ]
  },
  {
   "cell_type": "code",
   "execution_count": 2,
   "metadata": {},
   "outputs": [],
   "source": [
    "## import matplotlib.pylab as plt\n",
    "%matplotlib inline\n",
    "import pickle, gzip       \n",
    "import numpy as np\n",
    "\n",
    "class Numbers:\n",
    "    \"\"\"\n",
    "    Class to store MNIST data for images of 9 and 8 only\n",
    "    \"\"\" \n",
    "    def __init__(self, location):\n",
    "        # You shouldn't have to modify this class, but you can if you'd like\n",
    "        # Load the dataset\n",
    "        with gzip.open(location, 'rb') as f:\n",
    "            train_set, valid_set, test_set = pickle.load(f)\n",
    " \n",
    "        self.train_x, self.train_y = train_set\n",
    "        train_indices = np.where(self.train_y > 7)\n",
    "        self.train_x, self.train_y = self.train_x[train_indices], self.train_y[train_indices]\n",
    "        self.train_y = self.train_y - 8\n",
    " \n",
    "        self.valid_x, self.valid_y = valid_set\n",
    "        valid_indices = np.where(self.valid_y > 7)\n",
    "        self.valid_x, self.valid_y = self.valid_x[valid_indices], self.valid_y[valid_indices]\n",
    "        self.valid_y = self.valid_y - 8\n",
    "        \"\"\"\n",
    "        # To test stuff\n",
    "        #print(\"train_x shape= \",self.train_x.shape)\n",
    "        #print(\"train_y shape= \",self.train_y.shape)\n",
    "        \n",
    "        #print(self.train_x[266])\n",
    "        num=120\n",
    "    \n",
    "        test1= np.reshape(self.train_x[num], (28, 28))\n",
    "        plt.gray()\n",
    "        #plt.matshow(test1)\n",
    "        plt.imshow(test1, cmap=plt.get_cmap('gray'))\n",
    "        plt.show()\n",
    "        print(\"y value = \",self.train_y[num])\n",
    "        \"\"\"\n",
    "        #NOTES:\n",
    "        #There are 9830 items in the set \"Data\".\n",
    "        #train_x shape=  (9830, 784)\n",
    "        #an image in the MNIST set is 784 data points, to make up a 28x28 image\n",
    "        #train_y shape=  (9830,)\n",
    "        \n",
    "        #8's have a y value of 0\n",
    "        #9's have a y value of 1\n",
    "        "
   ]
  },
  {
   "cell_type": "code",
   "execution_count": 3,
   "metadata": {},
   "outputs": [],
   "source": [
    "data = Numbers('./mnist.pklz')\n"
   ]
  },
  {
   "cell_type": "markdown",
   "metadata": {},
   "source": [
    "In this homework you'll implement a Logistic Regression classifier to take drawings of either an eight or a nine and output the corresponding label.\n",
    "* [10 pts] Finish the `calculate_score` function to return the output of applying the dot product of the weights with the input parameter\n",
    "\n",
    "* [10 pts] Finish the `sigmoid` function to return the output of applying the sigmoid function to the calculated score\n",
    "\n",
    "* [10 pts] Finish the `compute_gradient` function to return the derivate of the cost w.r.t. the weights\n",
    "\n",
    "* [10 pts] Finish the `sgd_update` function so that it performs stochastic gradient descent on the single training example and updates the weight vector correspondingly\n",
    "\n",
    "* [10 pts] Finish the `mini_batch_update` function so that it performs mini-batch gradient descent on the batches of the training data set example and updates the weight vector correspondingly"
   ]
  },
  {
   "cell_type": "code",
   "execution_count": 4,
   "metadata": {},
   "outputs": [],
   "source": [
    "from collections import defaultdict\n",
    "import math\n",
    "from random import seed\n",
    "from random import random\n",
    "from sklearn import svm, metrics\n",
    "from sklearn.model_selection import train_test_split\n",
    "seed(1)\n",
    "\n",
    "class LogReg:\n",
    "    \n",
    "    def __init__(self, X, y, eta = 0.1):\n",
    "        \"\"\"\n",
    "        Create a logistic regression classifier\n",
    "        :param num_features: The number of features (including bias)\n",
    "        :param eta: Learning rate (the default is a constant value)\n",
    "        :method: This should be the name of the method (sgd_update or mini_batch_descent)\n",
    "        :batch_size: optional argument that is needed only in the case of mini_batch_descent\n",
    "        \"\"\"\n",
    "        self.X = X\n",
    "        self.y = y\n",
    "        self.eta = eta\n",
    "        self.w = np.zeros(X.shape[1]) # can remove from here and ask to be defined in the function\n",
    "        \n",
    "        #Create intial weights of small numbers for each x.\n",
    "        #They range from around 0.003 to 0.09 \n",
    "        #self.w = (np.random.rand(X.shape[1]))/10\n",
    "        #print(\"w_initial= \", self.w)\n",
    "        #gradientlist=[]\n",
    "      \n",
    "        #Separate X and y into Training(75%) and test sets (25%)\n",
    "        #self.Train_x,self.test_x,self.Train_y,self.test_y= train_test_split(\n",
    "            #self.X, self.y, test_size=0.25, shuffle=True)\n",
    "        \n",
    "        #gradient=5 #initialize gradient to a big number\n",
    "        \n",
    "        #### While not converged ADD A FOR LOOP HERE!\n",
    "        #grad=0\n",
    "        \"\"\"\n",
    "        for g in range(0,10): #loop occurs 10 times\n",
    "           \n",
    "        #while np.absolute(gradient) > 0.1:\n",
    "        #For each epoch, Separate X and y Training sets into differently \n",
    "        #shuffled grad decent training(67%) and validation sets (33%)\n",
    "            self.train_x,self.validation_x,self.train_y,self.validation_y= train_test_split(\n",
    "                self.X, self.y, test_size=0.33, shuffle=True)\n",
    "            #print(\"self.train_x= \", self.train_x)\n",
    "       \"\"\"\n",
    "        #for each point or mnist number\n",
    "            \n",
    "            \n",
    "            #self.w=self.sgd_update(self.train_x, self.train_y)   \n",
    "            \n",
    "        #print(\"w_final= \", self.w)            \n",
    "        #print(\"end of epoch loops\")\n",
    "        \"\"\"\n",
    "        plt.plot(range(0,np.size(gradientlist)),np.absolute(gradientlist))\n",
    "        plt.ylabel('Gradient')\n",
    "        plt.xlabel('Epoch #')\n",
    "        plt.suptitle('Gradients')\n",
    "        plt.show()\n",
    "        \"\"\"\n",
    "        \n",
    "        \n",
    "    def calculate_score(self, x):\n",
    "        \"\"\"\n",
    "        :param x: This can be a single training example or it could be n \n",
    "        training examples\n",
    "        :return score: Calculate the score that you will plug into the\n",
    "        logistic function\n",
    "        \"\"\"\n",
    "        # TODO: Compute the score to be fed to the sigmoid function\n",
    "        score = np.dot(self.w,x)\n",
    "        return score\n",
    "    \n",
    "    def sigmoid(self, score):\n",
    "        \"\"\"\n",
    "        :param score: Either a real valued number or a vector to \n",
    "        convert into a number between 0 and 1\n",
    "        :return sigmoid: Calcuate the output of applying the \n",
    "        sigmoid function to the score. This could \n",
    "        be a single value or a vector depending on the input\n",
    "        \"\"\"\n",
    "        # TODO: Complete this function to return the output of applying the sigmoid function to the score\n",
    "        sigmd = 1/(1+(np.exp(-1*score)))      \n",
    "        #print(\"sigmoid= \",sigmd)\n",
    "        return sigmd\n",
    "    \n",
    "    def compute_gradient(self, x, h, y):\n",
    "        \"\"\"\n",
    "        :param x: Feature vector\n",
    "        :param h: predicted class label\n",
    "        :param y: real class label\n",
    "        :return gradient: Return the derivate of the cost w.r.t to the weights\n",
    "        \"\"\"\n",
    "        # TODO: Finish this function to compute the gradient\n",
    "        #gradient=self.sigmoid(self.calculate_score(x))-y\n",
    "        gradient=h-y\n",
    "        \n",
    "        #print(\"h= \",h)\n",
    "        #print(\"gradient= \",gradient)\n",
    "        \n",
    "        return gradient\n",
    "     \n",
    "    def sgd_update(self,x_i,y):\n",
    "        \"\"\"\n",
    "        Compute a stochastic gradient update over the entire dataset to improve the \n",
    "        log likelihood.\n",
    "        :param x_i: The features of the example to take the gradient with respect to\n",
    "        :param y: The target output of the example to take the gradient with respect to\n",
    "        :return: Return the new value of the regression coefficients\n",
    "        \"\"\" \n",
    "        # TODO: Finish this function to do a stochastic gradient descent update over the entire dataset\n",
    "        # and return the updated weight vector\n",
    "        #weights=0\n",
    "        #x_i=self.X\n",
    "        #y=self.y\n",
    "        for i in range(0,np.size(x_i,0)):\n",
    "                #print(\"size=\", np.size(x_i,0))\n",
    "                #print(\"x_i[i,:]=\",x_i[i,:])\n",
    "                grad=self.compute_gradient(\n",
    "                    x_i[i,:],self.sigmoid(self.calculate_score(x_i[i,:])), y[i])\n",
    "                #print(\"gradient=\",grad)\n",
    "            #for each dimension in the point or mnist number\n",
    "                for k in range(0,np.size(x_i,1)):\n",
    "                    #print(\"x_i[i,k]=\",x_i[i,k])\n",
    "                    self.w[k]=self.w[k]-(self.eta*grad*x_i[i,k])\n",
    "        #gradientlist.append(grad)            \n",
    "                    #print(\"weights=\",self.w)\n",
    "        return self.w\n",
    "    \n",
    "    def mini_batch_update(self, X, y, batch_size):\n",
    "        \"\"\"\n",
    "        One iteration of the mini-batch update over the entire dataset (one sweep of the dataset).\n",
    "        :param X: NumPy array of features (size : no of examples X features)\n",
    "        :param y: Numpy array of class labels (size : no of examples X 1)\n",
    "        :param batch_size: size of the batch for gradient update\n",
    "        :returns w: Coefficients of the classifier (after updating)\n",
    "        \"\"\"\n",
    "        # TODO: Performing mini-batch training follows the same steps as in stochastic gradient descent,\n",
    "        # the only major difference is that we’ll use batches of training examples instead of one. \n",
    "        # Here we decide a batch size, which is the number of examples that will be fed into the \n",
    "        # computational graph at once.\n",
    "        x_i=X\n",
    "        GradXsum = np.zeros(np.size(x_i,1))\n",
    "        #GradXsum[1]=4\n",
    "\n",
    "        #print(\"np.size(X,0)=\",np.size(X,0))\n",
    "        #To go between batches\n",
    "        for n in range(0,np.size(x_i,0),batch_size):\n",
    "            GradXsum = np.zeros(np.size(x_i,1))\n",
    "            #print(\"----------\")\n",
    "            #print(\"batch# \",n)\n",
    "            #n= 0,2,4\n",
    "\n",
    "            #within each batch\n",
    "            for i in range(n,n+batch_size):\n",
    "                if i<np.size(X,0):\n",
    "                    #print(\"i=\",i)\n",
    "                    #print(\"x_i[i,:]=\",x_i[i,:])\n",
    "                    grad=self.compute_gradient(\n",
    "                        x_i[i,:],self.sigmoid(self.calculate_score(x_i[i,:])), y[i])\n",
    "                    \n",
    "                    #Res\n",
    "                    \n",
    "                    #print(\"gradient=\",grad)\n",
    "                #for each dimension in the point or mnist number\n",
    "                     #for k in range(0,np.size(x_i,1)):\n",
    "                        #print (\"grad*x_i[i,k],k=\",k,\"  \",grad*x_i[i,k])\n",
    "                    GradXsum+= grad*x_i[i,:]\n",
    "                    #print(\"GradXsum=\", GradXsum)\n",
    "                        \n",
    "            for g in range(0,np.size(x_i,1)):\n",
    "                self.w[g]=self.w[g]-(self.eta*GradXsum[g])\n",
    "            #print(\"weights=\",self.w)\n",
    "        \n",
    "        \n",
    "      \n",
    "        return self.w\n",
    "    \n",
    "    def progress(self, test_x, test_y, update_method, *batch_size):\n",
    "        \"\"\"\n",
    "        Given a set of examples, computes the probability and accuracy\n",
    "        :param test_x: The features of the test dataset to score\n",
    "        :param test_y: The features of the test \n",
    "        :param update_method: The update method to be used, either \n",
    "        'sgd_update' or 'mini_batch_update'\n",
    "        :param batch_size: Optional argument to be given only in \n",
    "        case of mini_batch_update\n",
    "        :return: A tuple of (log probability, accuracy)\n",
    "        \"\"\"\n",
    "        # TODO: Complete this function to compute the predicted value for \n",
    "        #an example based on the logistic value\n",
    "        # and return the log probability and the accuracy of those predictions\n",
    "        log_prob=0\n",
    "        accuracymatchestotal=0\n",
    "        #print(\"test_x=\", test_x)\n",
    "        #print(\"test_x[0]=\", test_x[0])\n",
    "        if update_method=='sgd_update':\n",
    "            #weights=self.sgd_update(test_x, test_y)\n",
    "            #print(\"np.size(test_x,0)=\", np.size(test_x,0))\n",
    "            #print(\"np.size(test_x,1)=\", np.size(test_x,1))\n",
    "            for i in range(0,np.size(test_x,0)):\n",
    "                \n",
    "                log_prob+=np.log(self.sigmoid(self.calculate_score(test_x[i])))\n",
    "                if test_y[i]==1 and self.sigmoid(self.calculate_score(test_x[i]))>=0.5:\n",
    "                    accuracymatchestotal+=1\n",
    "                elif test_y[i]==0 and self.sigmoid(self.calculate_score(test_x[i]))<0.5:\n",
    "                    accuracymatchestotal+=1\n",
    "                        \n",
    "            accuracy=accuracymatchestotal/np.size(test_x,0) \n",
    "            #print(\"accuracy=\",accuracy)\n",
    "            #print(\"log_prob=\",log_prob)\n",
    "\n",
    "        elif update_method=='mini_batch_update':\n",
    "                batchsize=batch_size[0]\n",
    "                self.mini_batch_update(test_x, test_y,batchsize)\n",
    "                \n",
    "                for i in range(0,np.size(test_x,0)):\n",
    "                    log_prob+=np.log(self.sigmoid(self.calculate_score(test_x[i])))\n",
    "                    if test_y[i]==1 and self.sigmoid(self.calculate_score(test_x[i]))>=0.5:\n",
    "                        accuracymatchestotal+=1\n",
    "                    elif test_y[i]==0 and self.sigmoid(self.calculate_score(test_x[i]))<0.5:\n",
    "                        accuracymatchestotal+=1     \n",
    "                accuracy=0\n",
    "                if (np.size(test_x,0)>0) :       \n",
    "                    accuracy=accuracymatchestotal/np.size(test_x,0) \n",
    "                \n",
    "               # accuracy+=np.absolute(test_y[i]-self.sigmoid(self.calculate_score(test_x[i])))\n",
    "            #self.mini_batch_update(test_x, test_y,batch_size)\n",
    "        #print(\"logprob=\",log_prob)\n",
    "        #print(\"accuracy=\",accuracy)\n",
    "        return log_prob, accuracy"
   ]
  },
  {
   "cell_type": "code",
   "execution_count": 5,
   "metadata": {},
   "outputs": [
    {
     "name": "stderr",
     "output_type": "stream",
     "text": [
      "..."
     ]
    },
    {
     "name": "stdout",
     "output_type": "stream",
     "text": [
      "weights1= [ 0.1591022  -0.37065522]\n",
      "first tests complete\n",
      "weights2= [ 0.17370806 -0.37315947]\n",
      "second tests complete\n",
      "third tests complete\n"
     ]
    },
    {
     "name": "stderr",
     "output_type": "stream",
     "text": [
      "\n",
      "----------------------------------------------------------------------\n",
      "Ran 3 tests in 0.010s\n",
      "\n",
      "OK\n"
     ]
    },
    {
     "data": {
      "text/plain": [
       "<unittest.runner.TextTestResult run=3 errors=0 failures=0>"
      ]
     },
     "execution_count": 5,
     "metadata": {},
     "output_type": "execute_result"
    }
   ],
   "source": [
    "import unittest\n",
    "\n",
    "class LogRegTester(unittest.TestCase):\n",
    "    def setUp(self):\n",
    "        self.X = np.array([[0.1, 0.3 ], [0.4, 0.6], [0.8, 0.1], [0.8, 0.1], [0.5, 0.8]])\n",
    "        self.y = np.array([0,0,1,1,0])\n",
    "        self.log_reg_classifier_1 = LogReg(self.X, self.y, 0.5)\n",
    "        self.log_reg_classifier_2 = LogReg(self.X, self.y, 0.5)\n",
    "            \n",
    "    def test_sgd_update(self):\n",
    "        \n",
    "        #Test sgd_update function from LogReg\n",
    "        \n",
    "        weights = self.log_reg_classifier_1.sgd_update(self.X,self.y)\n",
    "        print(\"weights1=\", weights)\n",
    "        self.assertEqual(round(weights[0], 2), 0.16)\n",
    "        self.assertEqual(round(weights[1], 2), -0.37)\n",
    "        print(\"first tests complete\")\n",
    "          \n",
    "    def tests_mini_batch_update(self):\n",
    "        #Test mini_batch_update function from LogReg\n",
    "        \n",
    "        weights = self.log_reg_classifier_2.mini_batch_update(self.X, self.y,2)\n",
    "        print(\"weights2=\", weights)\n",
    "        self.assertEqual(round(weights[0], 2), 0.17)\n",
    "        self.assertEqual(round(weights[1], 2), -0.37)\n",
    "        print(\"second tests complete\")\n",
    "        \n",
    "    def tests_progress_sgd_update(self):\n",
    "        \n",
    "        #Test progress function from LogReg with method = 'sgd_update'\n",
    "        #print(\"self.X[:4]=\",self.X[:4])\n",
    "        self.log_reg_classifier_1 = LogReg(self.X[:4], self.y[:4], 0.5)\n",
    "        self.log_reg_classifier_1.sgd_update(self.X[:4], self.y[:4])\n",
    "        log_prob, accuracy = self.log_reg_classifier_1.progress(self.X[4:], \n",
    "                                                        self.y[4:], 'sgd_update')\n",
    "        self.assertEqual(round(log_prob, 1), -0.7)  # Changed to round 1.\n",
    "        self.assertEqual(accuracy, 0)\n",
    "        print(\"third tests complete\")\n",
    "           \n",
    "        \n",
    "        \n",
    "    \n",
    "    #BEGIN Workspace\n",
    "    #Add more test functions as required\n",
    "    #HINT - You'll want to make sure your\n",
    "    #END Workspace\n",
    "    \n",
    "tests = LogRegTester()\n",
    "myTests = unittest.TestLoader().loadTestsFromModule(tests)\n",
    "unittest.TextTestRunner().run(myTests)"
   ]
  },
  {
   "cell_type": "code",
   "execution_count": 9,
   "metadata": {
    "deletable": false,
    "editable": false,
    "nbgrader": {
     "cell_type": "code",
     "checksum": "66271acf9fa2ad5ba37138c6c65d0e4b",
     "grade": true,
     "grade_id": "cell-6dae20a6650e207a",
     "locked": true,
     "points": 10,
     "schema_version": 3,
     "solution": false,
     "task": false
    }
   },
   "outputs": [],
   "source": [
    "# DO NOT DELETE THIS CELL !!!"
   ]
  },
  {
   "cell_type": "code",
   "execution_count": 10,
   "metadata": {
    "deletable": false,
    "editable": false,
    "nbgrader": {
     "cell_type": "code",
     "checksum": "fc5fb2bf05afb8b55193714209151048",
     "grade": true,
     "grade_id": "cell-758427c4f39cdc27",
     "locked": true,
     "points": 10,
     "schema_version": 3,
     "solution": false,
     "task": false
    }
   },
   "outputs": [],
   "source": [
    "# DO NOT DELETE THIS CELL !!!"
   ]
  },
  {
   "cell_type": "code",
   "execution_count": 11,
   "metadata": {
    "deletable": false,
    "editable": false,
    "nbgrader": {
     "cell_type": "code",
     "checksum": "d8de3625beec198e3f16aeae05b6343d",
     "grade": true,
     "grade_id": "cell-4faa4c852f8052c5",
     "locked": true,
     "points": 10,
     "schema_version": 3,
     "solution": false,
     "task": false
    }
   },
   "outputs": [],
   "source": [
    "# DO NOT DELETE THIS CELL !!!"
   ]
  },
  {
   "cell_type": "code",
   "execution_count": 12,
   "metadata": {
    "deletable": false,
    "editable": false,
    "nbgrader": {
     "cell_type": "code",
     "checksum": "e5a0d847dc62f3be14b1741bd706757f",
     "grade": true,
     "grade_id": "cell-83bae9107e0d2269",
     "locked": true,
     "points": 10,
     "schema_version": 3,
     "solution": false,
     "task": false
    }
   },
   "outputs": [],
   "source": [
    "# DO NOT DELETE THIS CELL !!!"
   ]
  },
  {
   "cell_type": "code",
   "execution_count": 13,
   "metadata": {
    "deletable": false,
    "editable": false,
    "nbgrader": {
     "cell_type": "code",
     "checksum": "25cfd3959691f614fae03fbe78d14a4b",
     "grade": true,
     "grade_id": "cell-3ef057a9059ef5d4",
     "locked": true,
     "points": 10,
     "schema_version": 3,
     "solution": false,
     "task": false
    }
   },
   "outputs": [],
   "source": [
    "# DO NOT DELETE THIS CELL !!!"
   ]
  },
  {
   "cell_type": "markdown",
   "metadata": {},
   "source": [
    "**Q:** After completing the class above, loop over the training data and perform ___stochastic gradient descent___ for 10 epochs, and five different values of eta range [.0001, .01, .1, .5, 1]. Train your model and do the following:\n",
    "\n",
    "* [2.5 pts] PART A : Create a new classifier object and Using the `progress` method, calculate the accuracy on the __training sets__ at the end of each epoch and store it. Plot the accuracy trends for the different values of eta on same graph.\n",
    "\n",
    "* [2.5 pts] PART B : Create a new classifier object and Using the `progress` method, calculate the accuracy on the __validation set__ at the end of each epoch and store it. Plot the accuracy trends for the different values of eta on same graph.\n",
    "\n",
    "Don't forget to shuffle your training data after each epoch."
   ]
  },
  {
   "cell_type": "markdown",
   "metadata": {},
   "source": [
    "Implement part A below. DO NOT DELETE THE CELL"
   ]
  },
  {
   "cell_type": "code",
   "execution_count": 61,
   "metadata": {
    "deletable": false,
    "nbgrader": {
     "cell_type": "code",
     "checksum": "dab6194829c3f760a0700843b8ac0d14",
     "grade": true,
     "grade_id": "cell-ef8affc8f47de848",
     "locked": false,
     "points": 2.5,
     "schema_version": 3,
     "solution": true,
     "task": false
    }
   },
   "outputs": [
    {
     "name": "stdout",
     "output_type": "stream",
     "text": [
      "Epoch #  0\n",
      "Epoch #  1\n",
      "Epoch #  2\n",
      "Epoch #  3\n",
      "Epoch #  4\n",
      "Epoch #  5\n",
      "Epoch #  6\n",
      "Epoch #  7\n",
      "Epoch #  8\n",
      "Epoch #  9\n"
     ]
    },
    {
     "data": {
      "image/png": "[encoded data removed]",
      "text/plain": [
       "<Figure size 432x288 with 1 Axes>"
      ]
     },
     "metadata": {
      "needs_background": "light"
     },
     "output_type": "display_data"
    }
   ],
   "source": [
    "# YOUR CODE HERE\n",
    "\n",
    "#X = np.array([[0.1, 0.3 ], [0.4, 0.6], [0.8, 0.1], [0.8, 0.1], [0.5, 0.8]])\n",
    "#y = np.array([0,0,1,1,0])\n",
    "X=data.train_x\n",
    "y=data.train_y\n",
    "XVal=data.valid_x\n",
    "yVal=data.valid_y\n",
    "\n",
    "accuracylist1=[]\n",
    "accuracylist2=[]\n",
    "accuracylist3=[]\n",
    "accuracylist4=[]\n",
    "accuracylist5=[]\n",
    "etarange=[.0001, .01, .1, .5, 1]\n",
    "#classifier_1 = LogReg(X, y, 0.5)\n",
    "#Train_x,test_x,Train_y,test_y= train_test_split(\n",
    "#                X, y, test_size=0.2, shuffle=True)\n",
    "\n",
    "classifier_1 = LogReg(X, y, etarange[0])\n",
    "classifier_2 = LogReg(X, y, etarange[1])\n",
    "classifier_3 = LogReg(X, y, etarange[2])\n",
    "classifier_4 = LogReg(X, y, etarange[3])\n",
    "classifier_5 = LogReg(X, y, etarange[4])\n",
    "for i in range(0,10):\n",
    "    print(\"Epoch # \",i)    \n",
    "    train_x,test_x,train_y,test_y= train_test_split(\n",
    "               X,y, test_size=0.25, shuffle=True)\n",
    "    classifier_1.sgd_update(train_x,train_y)\n",
    "    classifier_2.sgd_update(train_x,train_y)\n",
    "    classifier_3.sgd_update(train_x,train_y)\n",
    "    classifier_4.sgd_update(train_x,train_y)\n",
    "    classifier_5.sgd_update(train_x,train_y)\n",
    "    log_prob1, accuracy1 = classifier_1.progress(train_x,train_y, 'sgd_update')\n",
    "    log_prob2, accuracy2 = classifier_2.progress(train_x,train_y, 'sgd_update')\n",
    "    log_prob3, accuracy3 = classifier_3.progress(train_x,train_y, 'sgd_update')\n",
    "    log_prob4, accuracy4 = classifier_4.progress(train_x,train_y, 'sgd_update')\n",
    "    log_prob5, accuracy5 = classifier_5.progress(train_x,train_y, 'sgd_update')\n",
    "    \n",
    "    accuracylist1.append(accuracy1)\n",
    "    accuracylist2.append(accuracy2)\n",
    "    accuracylist3.append(accuracy3)\n",
    "    accuracylist4.append(accuracy4)\n",
    "    accuracylist5.append(accuracy5)\n",
    "    \n",
    "plt.plot(range(0,10),accuracylist1,label=\"eta=0.0001\")\n",
    "plt.plot(range(0,10),accuracylist2,label=\"eta=0.01\")\n",
    "plt.plot(range(0,10),accuracylist3,label=\"eta=0.1\")\n",
    "plt.plot(range(0,10),accuracylist4,label=\"eta=0.5\")\n",
    "plt.plot(range(0,10),accuracylist5,label=\"eta=1\")\n",
    "plt.legend(loc=\"lower left\")\n",
    "plt.ylabel('Accuracy')\n",
    "plt.xlabel('Epoch #')\n",
    "plt.suptitle('SGD Accuracy on the Training Sets ')\n",
    "\n",
    "\n",
    "plt.show()"
   ]
  },
  {
   "cell_type": "markdown",
   "metadata": {},
   "source": [
    "Implement part B below. DO NOT DELETE THE CELL"
   ]
  },
  {
   "cell_type": "code",
   "execution_count": 6,
   "metadata": {
    "deletable": false,
    "nbgrader": {
     "cell_type": "code",
     "checksum": "1fb60d22338d71c2da37a063263b109c",
     "grade": true,
     "grade_id": "cell-ec6999395608d8f1",
     "locked": false,
     "points": 2.5,
     "schema_version": 3,
     "solution": true,
     "task": false
    }
   },
   "outputs": [
    {
     "name": "stdout",
     "output_type": "stream",
     "text": [
      "Epoch #  0\n",
      "Epoch #  1\n",
      "Epoch #  2\n",
      "Epoch #  3\n",
      "Epoch #  4\n",
      "Epoch #  5\n",
      "Epoch #  6\n",
      "Epoch #  7\n",
      "Epoch #  8\n",
      "Epoch #  9\n"
     ]
    },
    {
     "data": {
      "image/png": "[encoded data removed]",
      "text/plain": [
       "<Figure size 432x288 with 1 Axes>"
      ]
     },
     "metadata": {
      "needs_background": "light"
     },
     "output_type": "display_data"
    }
   ],
   "source": [
    "# YOUR CODE HERE\n",
    "     \n",
    "#X = np.array([[0.1, 0.3 ], [0.4, 0.6], [0.8, 0.1], [0.8, 0.1], [0.5, 0.8]])\n",
    "#y = np.array([0,0,1,1,0])\n",
    "X=data.train_x\n",
    "y=data.train_y\n",
    "XVal=data.valid_x\n",
    "yVal=data.valid_y\n",
    "\n",
    "accuracylist1=[]\n",
    "accuracylist2=[]\n",
    "accuracylist3=[]\n",
    "accuracylist4=[]\n",
    "accuracylist5=[]\n",
    "etarange=[.0001, .01, .1, .5, 1]\n",
    "#classifier_1 = LogReg(X, y, 0.5)\n",
    "classifier_1 = LogReg(X, y, etarange[0])\n",
    "classifier_2 = LogReg(X, y, etarange[1])\n",
    "classifier_3 = LogReg(X, y, etarange[2])\n",
    "classifier_4 = LogReg(X, y, etarange[3])\n",
    "classifier_5 = LogReg(X, y, etarange[4])\n",
    "for i in range(0,10):\n",
    "    print(\"Epoch # \",i)       \n",
    "    train_x,test_x,train_y,test_y= train_test_split(\n",
    "               X,y, test_size=0.25, shuffle=True)\n",
    "    classifier_1.sgd_update(train_x,train_y)\n",
    "    classifier_2.sgd_update(train_x,train_y)\n",
    "    classifier_3.sgd_update(train_x,train_y)\n",
    "    classifier_4.sgd_update(train_x,train_y)\n",
    "    classifier_5.sgd_update(train_x,train_y)\n",
    "    log_prob1, accuracy1 = classifier_1.progress(XVal,yVal, 'sgd_update')\n",
    "    log_prob2, accuracy2 = classifier_2.progress(XVal,yVal, 'sgd_update')\n",
    "    log_prob3, accuracy3 = classifier_3.progress(XVal,yVal, 'sgd_update')\n",
    "    log_prob4, accuracy4 = classifier_4.progress(XVal,yVal, 'sgd_update')\n",
    "    log_prob5, accuracy5 = classifier_5.progress(XVal,yVal, 'sgd_update')\n",
    "    \n",
    "    accuracylist1.append(accuracy1)\n",
    "    accuracylist2.append(accuracy2)\n",
    "    accuracylist3.append(accuracy3)\n",
    "    accuracylist4.append(accuracy4)\n",
    "    accuracylist5.append(accuracy5)\n",
    "    \n",
    "plt.plot(range(0,10),accuracylist1,label=\"eta=0.0001\")\n",
    "plt.plot(range(0,10),accuracylist2,label=\"eta=0.01\")\n",
    "plt.plot(range(0,10),accuracylist3,label=\"eta=0.1\")\n",
    "plt.plot(range(0,10),accuracylist4,label=\"eta=0.5\")\n",
    "plt.plot(range(0,10),accuracylist5,label=\"eta=1\")\n",
    "plt.legend(loc=\"lower left\")\n",
    "plt.ylabel('Accuracy')\n",
    "plt.xlabel('Epoch #')\n",
    "plt.suptitle('Progress:Accuracy on the Validation Set ')\n",
    "\n",
    "\n",
    "plt.show()"
   ]
  },
  {
   "cell_type": "markdown",
   "metadata": {},
   "source": [
    "**Q:** After completing the class above, loop over the training data and perform ___mini batch gradient descent___ for 10 epochs, and five different values of eta range [.0001, .01, .1, .5, 1]. Train your model and do the following:\n",
    "\n",
    "* [2.5 pts] PART C : Create a new classifier object and Using the `progress` method, calculate the accuracy on the __training sets__ at the end of each epoch and store it. Plot the accuracy trends for the different values of eta on same graph.\n",
    "\n",
    "* [2.5 pts] PART D : Create a new classifier object and Using the `progress` method, calculate the accuracy on the __validation set__ at the end of each epoch and store it. Plot the accuracy trends for the different values of eta on same graph.\n",
    "\n",
    "Don't forget to shuffle your training data after each epoch."
   ]
  },
  {
   "cell_type": "markdown",
   "metadata": {},
   "source": [
    "Implement part C below. DO NOT DELETE THE CELL"
   ]
  },
  {
   "cell_type": "code",
   "execution_count": 26,
   "metadata": {
    "deletable": false,
    "nbgrader": {
     "cell_type": "code",
     "checksum": "7aed5aa63ce920693892ad8525ba0174",
     "grade": true,
     "grade_id": "cell-52542793c69f29c3",
     "locked": false,
     "points": 2.5,
     "schema_version": 3,
     "solution": true,
     "task": false
    }
   },
   "outputs": [
    {
     "name": "stdout",
     "output_type": "stream",
     "text": [
      "epoch#  0\n"
     ]
    },
    {
     "name": "stderr",
     "output_type": "stream",
     "text": [
      "/home/scott/.local/lib/python3.6/site-packages/ipykernel_launcher.py:84: RuntimeWarning: overflow encountered in exp\n",
      "/home/scott/.local/lib/python3.6/site-packages/ipykernel_launcher.py:219: RuntimeWarning: divide by zero encountered in log\n"
     ]
    },
    {
     "name": "stdout",
     "output_type": "stream",
     "text": [
      "epoch#  1\n",
      "epoch#  2\n",
      "epoch#  3\n",
      "epoch#  4\n",
      "epoch#  5\n",
      "epoch#  6\n",
      "epoch#  7\n",
      "epoch#  8\n",
      "epoch#  9\n"
     ]
    },
    {
     "data": {
      "image/png": "[encoded data removed]",
      "text/plain": [
       "<Figure size 432x288 with 1 Axes>"
      ]
     },
     "metadata": {
      "needs_background": "light"
     },
     "output_type": "display_data"
    }
   ],
   "source": [
    "# YOUR CODE HERE\n",
    "     \n",
    "#X = np.array([[0.1, 0.3 ], [0.4, 0.6], [0.8, 0.1], [0.8, 0.1], [0.5, 0.8]])\n",
    "#y = np.array([0,0,1,1,0])\n",
    "X=data.train_x\n",
    "y=data.train_y\n",
    "XVal=data.valid_x\n",
    "yVal=data.valid_y\n",
    "\n",
    "accuracylist1=[]\n",
    "accuracylist2=[]\n",
    "accuracylist3=[]\n",
    "accuracylist4=[]\n",
    "accuracylist5=[]\n",
    "etarange=[.0001, .01, .1, .5, 1]\n",
    "#classifier_1 = LogReg(X, y, 0.5)\n",
    "#Train_x,test_x,Train_y,test_y= train_test_split(\n",
    "      #          X, y, test_size=0.2, shuffle=True)\n",
    "\n",
    "classifier_1 = LogReg(X, y, etarange[0])\n",
    "classifier_2 = LogReg(X, y, etarange[1])\n",
    "classifier_3 = LogReg(X, y, etarange[2])\n",
    "classifier_4 = LogReg(X, y, etarange[3])\n",
    "classifier_5 = LogReg(X, y, etarange[4])\n",
    "for i in range(0,10):\n",
    "    print(\"epoch# \",i)    \n",
    "    train_x,test_x,train_y,test_y= train_test_split(\n",
    "               X,y, test_size=0.25, shuffle=True)\n",
    "    classifier_1.mini_batch_update(train_x,train_y,100)\n",
    "    classifier_2.mini_batch_update(train_x,train_y,100)\n",
    "    classifier_3.mini_batch_update(train_x,train_y,100)\n",
    "    classifier_4.mini_batch_update(train_x,train_y,100)\n",
    "    classifier_5.mini_batch_update(train_x,train_y,100)\n",
    "    log_prob1, accuracy1 = classifier_1.progress(train_x,train_y, 'mini_batch_update',100)\n",
    "    log_prob2, accuracy2 = classifier_2.progress(train_x,train_y, 'mini_batch_update',100)\n",
    "    log_prob3, accuracy3 = classifier_3.progress(train_x,train_y, 'mini_batch_update',100)\n",
    "    log_prob4, accuracy4 = classifier_4.progress(train_x,train_y, 'mini_batch_update',100)\n",
    "    log_prob5, accuracy5 = classifier_5.progress(train_x,train_y, 'mini_batch_update',100)\n",
    "    \n",
    "    accuracylist1.append(accuracy1)\n",
    "    accuracylist2.append(accuracy2)\n",
    "    accuracylist3.append(accuracy3)\n",
    "    accuracylist4.append(accuracy4)\n",
    "    accuracylist5.append(accuracy5)\n",
    "    \n",
    "plt.plot(range(0,10),accuracylist1,label=\"eta=0.0001\")\n",
    "plt.plot(range(0,10),accuracylist2,label=\"eta=0.01\")\n",
    "plt.plot(range(0,10),accuracylist3,label=\"eta=0.1\")\n",
    "plt.plot(range(0,10),accuracylist4,label=\"eta=0.5\")\n",
    "plt.plot(range(0,10),accuracylist5,label=\"eta=1\")\n",
    "plt.legend(loc=\"lower left\")\n",
    "plt.ylabel('Accuracy')\n",
    "plt.xlabel('Epoch #')\n",
    "plt.suptitle('Progress:Accuracy on the Training Set -MiniBatch')\n",
    "\n",
    "\n",
    "plt.show()"
   ]
  },
  {
   "cell_type": "markdown",
   "metadata": {},
   "source": [
    "Implement part D below. DO NOT DELETE THE CELL"
   ]
  },
  {
   "cell_type": "code",
   "execution_count": 25,
   "metadata": {
    "deletable": false,
    "nbgrader": {
     "cell_type": "code",
     "checksum": "6476b7a70a099d872b9939d68f8da698",
     "grade": true,
     "grade_id": "cell-d02f5de2e6a3f212",
     "locked": false,
     "points": 2.5,
     "schema_version": 3,
     "solution": true,
     "task": false
    }
   },
   "outputs": [
    {
     "name": "stdout",
     "output_type": "stream",
     "text": [
      "epoch#  0\n"
     ]
    },
    {
     "name": "stderr",
     "output_type": "stream",
     "text": [
      "/home/scott/.local/lib/python3.6/site-packages/ipykernel_launcher.py:84: RuntimeWarning: overflow encountered in exp\n",
      "/home/scott/.local/lib/python3.6/site-packages/ipykernel_launcher.py:219: RuntimeWarning: divide by zero encountered in log\n"
     ]
    },
    {
     "name": "stdout",
     "output_type": "stream",
     "text": [
      "epoch#  1\n",
      "epoch#  2\n",
      "epoch#  3\n",
      "epoch#  4\n",
      "epoch#  5\n",
      "epoch#  6\n",
      "epoch#  7\n",
      "epoch#  8\n",
      "epoch#  9\n"
     ]
    },
    {
     "data": {
      "image/png": "[encoded data removed]",
      "text/plain": [
       "<Figure size 432x288 with 1 Axes>"
      ]
     },
     "metadata": {
      "needs_background": "light"
     },
     "output_type": "display_data"
    }
   ],
   "source": [
    "# YOUR CODE HERE \n",
    "\n",
    "#X = np.array([[0.1, 0.3 ], [0.4, 0.6], [0.8, 0.1], [0.8, 0.1], [0.5, 0.8]])\n",
    "#y = np.array([0,0,1,1,0])\n",
    "X=data.train_x\n",
    "y=data.train_y\n",
    "XVal=data.valid_x\n",
    "yVal=data.valid_y\n",
    "\n",
    "accuracylist1=[]\n",
    "accuracylist2=[]\n",
    "accuracylist3=[]\n",
    "accuracylist4=[]\n",
    "accuracylist5=[]\n",
    "etarange=[.0001, .01, .1, .5, 1]\n",
    "#classifier_1 = LogReg(X, y, 0.5)\n",
    "#Train_x,test_x,Train_y,test_y= train_test_split(\n",
    "      #          X, y, test_size=0.2, shuffle=True)\n",
    "\n",
    "classifier_1 = LogReg(X, y, etarange[0])\n",
    "classifier_2 = LogReg(X, y, etarange[1])\n",
    "classifier_3 = LogReg(X, y, etarange[2])\n",
    "classifier_4 = LogReg(X, y, etarange[3])\n",
    "classifier_5 = LogReg(X, y, etarange[4])\n",
    "for i in range(0,10):\n",
    "    print(\"epoch# \",i)    \n",
    "    train_x,test_x,train_y,test_y= train_test_split(\n",
    "               X,y, test_size=0.25, shuffle=True)\n",
    "    classifier_1.mini_batch_update(train_x,train_y,100)\n",
    "    classifier_2.mini_batch_update(train_x,train_y,100)\n",
    "    classifier_3.mini_batch_update(train_x,train_y,100)\n",
    "    classifier_4.mini_batch_update(train_x,train_y,100)\n",
    "    classifier_5.mini_batch_update(train_x,train_y,100)\n",
    "    log_prob1, accuracy1 = classifier_1.progress(XVal,yVal, 'mini_batch_update',100)\n",
    "    log_prob2, accuracy2 = classifier_2.progress(XVal,yVal, 'mini_batch_update',100)\n",
    "    log_prob3, accuracy3 = classifier_3.progress(XVal,yVal, 'mini_batch_update',100)\n",
    "    log_prob4, accuracy4 = classifier_4.progress(XVal,yVal, 'mini_batch_update',100)\n",
    "    log_prob5, accuracy5 = classifier_5.progress(XVal,yVal, 'mini_batch_update',100)\n",
    "    \n",
    "    accuracylist1.append(accuracy1)\n",
    "    accuracylist2.append(accuracy2)\n",
    "    accuracylist3.append(accuracy3)\n",
    "    accuracylist4.append(accuracy4)\n",
    "    accuracylist5.append(accuracy5)\n",
    "    \n",
    "plt.plot(range(0,10),accuracylist1,label=\"eta=0.0001\")\n",
    "plt.plot(range(0,10),accuracylist2,label=\"eta=0.01\")\n",
    "plt.plot(range(0,10),accuracylist3,label=\"eta=0.1\")\n",
    "plt.plot(range(0,10),accuracylist4,label=\"eta=0.5\")\n",
    "plt.plot(range(0,10),accuracylist5,label=\"eta=1\")\n",
    "plt.legend(loc=\"lower left\")\n",
    "plt.ylabel('Accuracy')\n",
    "plt.xlabel('Epoch #')\n",
    "plt.suptitle('Progress:Accuracy on the Validation Set -MiniBatch')\n",
    "plt.show()"
   ]
  },
  {
   "cell_type": "markdown",
   "metadata": {},
   "source": [
    "**Q:** [5 pts] Describe the role of learning rate (eta) on the efficiency of convergence during training?"
   ]
  },
  {
   "cell_type": "markdown",
   "metadata": {
    "deletable": false,
    "nbgrader": {
     "cell_type": "markdown",
     "checksum": "4803267a54ce015791ce3a8f6ac01e7a",
     "grade": true,
     "grade_id": "cell-672c3d3d77a18ef1",
     "locked": false,
     "points": 5,
     "schema_version": 3,
     "solution": true,
     "task": false
    }
   },
   "source": [
    "The 0.01, 0.1,0.5 and 1 eta's all appear to converge around the same epoch (8 or 9), but the accuracy of plots for eta's of 1 and 0.5 tend to rise fastest, but often bounce to lower accuracies multiple before settling. The 0.1 eta appears to have the best combination of quick improvement, and a relatively smooth curve to convergence, with not much backsliding.\n",
    "The 0.0001 eta's appear to move to convergence very slowly and is usually around 0.95 or 0.96 by the 10th epoch. Only in the minibatch accuracy with the training set did backsliding ever occur. Models with a 0.0001 eta would probably take a 10-15 more epochs to converge in addition to the 10 that were already run."
   ]
  },
  {
   "cell_type": "markdown",
   "metadata": {},
   "source": [
    "**Q:** [5 pts] Describe the role of the number of epochs on validation accuracy?"
   ]
  },
  {
   "cell_type": "markdown",
   "metadata": {
    "deletable": false,
    "nbgrader": {
     "cell_type": "markdown",
     "checksum": "673287df57a6b4ddc1a7073723c5686a",
     "grade": true,
     "grade_id": "cell-2aebead81356b6ec",
     "locked": false,
     "points": 5,
     "schema_version": 3,
     "solution": true,
     "task": false
    }
   },
   "source": [
    "The number of epochs generally to makes the accuracies improve  more, and some even appeared to be converging around epoch 9. However, in part B, multiple curves did not appear to be heading towards convergence, and had a moderate amount of backsliding every other epoch. In multiple instances, models droped by 0.03 accuracy for a single epoch, then returned or improved to what they had been before"
   ]
  },
  {
   "cell_type": "markdown",
   "metadata": {},
   "source": [
    "### [ 30 points] Problem 2: Implementing the Logistic Regression Classifier for Multinomial Classification\n",
    "\n",
    "You will now create a classifier that is commonly referred to as Multinomial Logistic Regression. The particular method you will be implementing is **One Vs All** or **One Vs Rest**. The dataset will be the MNIST dataset which includes all digits 0-9. You are free to use the functions you created above as needed.\n",
    "\n",
    "* [5 pts] 2.1 Normalize your data.\n",
    "* [5 pts] 2.2 Transform your outputs into a set of binary features via one-hot encoding.\n",
    "* [5 pts] 2.3 Write get_optimal_parameters - train all ten models at once.\n",
    "* [5 pts] 2.4 Calculate the accuracy of your model on Train and Test data.\n",
    "* [5 pts] 2.5 Generate a confusion matrix on test and train Data.\n",
    "* [5 pts] 2.6 Predict the labels of the first ten datapoints from your test set alongside the images of those same datapoints."
   ]
  },
  {
   "cell_type": "code",
   "execution_count": 7,
   "metadata": {},
   "outputs": [],
   "source": [
    "class Numbers2:\n",
    "    \"\"\"\n",
    "    Class to store MNIST data for images of 0-9\n",
    "    \"\"\" \n",
    "    def __init__(self, location):\n",
    "        # You shouldn't have to modify this class, but you can if you'd like\n",
    "        # Load the dataset\n",
    "        with gzip.open(location, 'rb') as f:\n",
    "            train_set, valid_set, test_set = pickle.load(f)\n",
    " \n",
    "        self.train_x, self.train_y = train_set\n",
    "        self.test_x, self.test_y = valid_set\n",
    "        #data2.train_x\n",
    "        print(\"size= \",self.train_x.shape[0])   \n",
    "        print(\"size= \",self.train_x.shape[1])   \n",
    "        #28x28=784\n",
    "        #train_x shape=  (50000, 784\n",
    "        #train_y shape=  (50000,)\n",
    "        #test_x shape=  (10000, 784)\n",
    "        #test_y shape=  (10000,)"
   ]
  },
  {
   "cell_type": "code",
   "execution_count": 8,
   "metadata": {},
   "outputs": [
    {
     "name": "stdout",
     "output_type": "stream",
     "text": [
      "size=  50000\n",
      "size=  784\n",
      "[5 0 4 1 9 2 1 3 1 4]\n",
      "true label: 3\n"
     ]
    },
    {
     "data": {
      "image/png": "[encoded data removed]",
      "text/plain": [
       "<Figure size 432x288 with 1 Axes>"
      ]
     },
     "metadata": {
      "needs_background": "light"
     },
     "output_type": "display_data"
    }
   ],
   "source": [
    "data2 = Numbers2('./mnist.pklz')\n",
    "print(data2.train_y[:10])\n",
    "def view_digit(example, label=None):\n",
    "    if label is not None: print(\"true label: {:d}\".format(label))\n",
    "    plt.imshow(example.reshape(28,28), cmap='gray');\n",
    "view_digit(data2.train_x[44],data2.train_y[44])\n",
    "#X pixel values are between 0 and 1, where 0=black, 1=white\n",
    "\n",
    "#print(\"size= \",data2.train_x.shape[1])       "
   ]
  },
  {
   "cell_type": "code",
   "execution_count": null,
   "metadata": {},
   "outputs": [],
   "source": [
    "from sklearn import preprocessing\n",
    "from datetime import datetime\n",
    "\n",
    "class MultiLogReg:\n",
    "    \n",
    "    def __init__(self, X, y, eta = 0.01):\n",
    "        #print(X.shape)\n",
    "        self.X = self.normalize_data(X)\n",
    "        self.y = self.one_hot_encoding(y)\n",
    "        self.eta = eta\n",
    "        self.one_hot_encoding(y)\n",
    "        #print(self.y[:10,:].shape)\n",
    "       # print(self.y[:10,:])\n",
    "       # print(\"-------\")\n",
    "        #print(self.y[:10,3])\n",
    "        #print(self.y[:10,3].shape)\n",
    "        #print(type(self.y[:10,3]))\n",
    "        \n",
    "        \n",
    "    def one_hot_encoding(self, y):\n",
    "        # TO DO: Represent the output vector y as a one hot encoding. Create a matrix of dimensions (m X 10) \n",
    "        # where m = number of examples, and 10 for number of classes\n",
    "        # if the class for the ith example is 7, then y[i][7] = 1 and the for k != 7, y[i][k] = 0.\n",
    "        \n",
    "        encoder= np.zeros((y.size, 10)) #rows,col's\n",
    "        #print(encoder.shape)\n",
    "        #print(y[:10])\n",
    "        for n in range(0,y.size):\n",
    "            yvalue=y[n]\n",
    "            encoder[n][yvalue]+=1\n",
    "        #print(encoder[:10,:])\n",
    "        #print(y.shape)\n",
    "        return encoder\n",
    "    def normalize_data(self, X):\n",
    "        # TO DO: Normalize the feature values of dataset X using\n",
    "        #the mean and standard deviation of the respective features \n",
    "        \n",
    "        #According to https://scikit-learn.org/stable/modules/preprocessing.html\n",
    "        #The basic version of the function results in Scaled data \n",
    "        #with zero mean and unit variance\n",
    "        X_scaled = preprocessing.scale(X)\n",
    "        \n",
    "        return X_scaled\n",
    "        \n",
    "    def get_optimal_parameters(self,weights=0):\n",
    "        # TO DO: This is the main training loop. You will have to find the optimal weights for all 10 models\n",
    "        # Each model is fit to it's class which is (0-9), and the cost function will be against all of\n",
    "        #the other numbers \"the rest\".\n",
    "        \"\"\"\n",
    "        Notes from piazza\n",
    "        The optimal_parameters function will create a LogReg class for each digit, yes. \n",
    "        Your training features will be the data2.train_x, and your y classes will be \"1\"\n",
    "        if in class 0, and \"0\" otherwise. Then just do regular shuffle/split/train until \n",
    "        you cease seeing improvement in accuracy.\n",
    "        \"\"\"\n",
    "        accuracylist0=[]\n",
    "        accuracylist1=[]\n",
    "        accuracylist2=[]\n",
    "        accuracylist3=[]\n",
    "        accuracylist4=[]\n",
    "        accuracylist5=[]\n",
    "        accuracylist6=[]\n",
    "        accuracylist7=[]\n",
    "        accuracylist8=[]\n",
    "        accuracylist9=[]\n",
    "        \n",
    "        classifier_0 = LogReg(self.X, self.y[:,0], self.eta)\n",
    "        classifier_1 = LogReg(self.X, self.y[:,1], self.eta)\n",
    "        classifier_2 = LogReg(self.X, self.y[:,2], self.eta)\n",
    "        classifier_3 = LogReg(self.X, self.y[:,3], self.eta)\n",
    "        classifier_4 = LogReg(self.X, self.y[:,4], self.eta)\n",
    "        classifier_5 = LogReg(self.X, self.y[:,5], self.eta)\n",
    "        classifier_6 = LogReg(self.X, self.y[:,6], self.eta)\n",
    "        classifier_7 = LogReg(self.X, self.y[:,7], self.eta)\n",
    "        classifier_8 = LogReg(self.X, self.y[:,8], self.eta)\n",
    "        classifier_9 = LogReg(self.X, self.y[:,9], self.eta)\n",
    "        \n",
    "        batchsize=1000\n",
    "        epochmax=15\n",
    "        accuracy0=0\n",
    "       \n",
    "        for i in range(0,epochmax):\n",
    "\n",
    "            train_x,test_x,train_y,test_y= train_test_split(\n",
    "                   self.X,self.y, test_size=0.25, shuffle=True)\n",
    "            #print(\"test_x shape =\" test_x)\n",
    "            #print(\"test_y shape =\" test_x)  \n",
    "              #  test_x,test_y[:,0]\n",
    "            if i==(epochmax-1):    \n",
    "                weights0=classifier_0.mini_batch_update(train_x,train_y[:,0],batchsize)\n",
    "                weights1=classifier_1.mini_batch_update(train_x,train_y[:,1],batchsize)\n",
    "                weights2=classifier_2.mini_batch_update(train_x,train_y[:,2],batchsize)\n",
    "                weights3=classifier_3.mini_batch_update(train_x,train_y[:,3],batchsize)\n",
    "                weights4=classifier_4.mini_batch_update(train_x,train_y[:,4],batchsize)\n",
    "                weights5=classifier_5.mini_batch_update(train_x,train_y[:,5],batchsize)\n",
    "                weights6=classifier_6.mini_batch_update(train_x,train_y[:,6],batchsize)\n",
    "                weights7=classifier_7.mini_batch_update(train_x,train_y[:,7],batchsize)\n",
    "                weights8=classifier_8.mini_batch_update(train_x,train_y[:,8],batchsize)\n",
    "                weights9=classifier_9.mini_batch_update(train_x,train_y[:,9],batchsize)\n",
    "                \n",
    "        \n",
    "            else: \n",
    "                classifier_0.mini_batch_update(train_x,train_y[:,0],batchsize)\n",
    "                classifier_1.mini_batch_update(train_x,train_y[:,1],batchsize)\n",
    "                classifier_2.mini_batch_update(train_x,train_y[:,2],batchsize)\n",
    "                classifier_3.mini_batch_update(train_x,train_y[:,3],batchsize)\n",
    "                classifier_4.mini_batch_update(train_x,train_y[:,4],batchsize)\n",
    "                classifier_5.mini_batch_update(train_x,train_y[:,5],batchsize)\n",
    "                classifier_6.mini_batch_update(train_x,train_y[:,6],batchsize)\n",
    "                classifier_7.mini_batch_update(train_x,train_y[:,7],batchsize)\n",
    "                classifier_8.mini_batch_update(train_x,train_y[:,8],batchsize)\n",
    "                classifier_9.mini_batch_update(train_x,train_y[:,9],batchsize)\n",
    "                   \n",
    "            log_prob0, accuracy0 = classifier_0.progress(test_x,test_y[:,0], 'mini_batch_update',batchsize)\n",
    "            log_prob1, accuracy1 = classifier_1.progress(test_x,test_y[:,1], 'mini_batch_update',batchsize)\n",
    "            log_prob2, accuracy2 = classifier_2.progress(test_x,test_y[:,2], 'mini_batch_update',batchsize)\n",
    "            log_prob3, accuracy3 = classifier_3.progress(test_x,test_y[:,3], 'mini_batch_update',batchsize)\n",
    "            log_prob4, accuracy4 = classifier_4.progress(test_x,test_y[:,4], 'mini_batch_update',batchsize)\n",
    "            log_prob5, accuracy5 = classifier_5.progress(test_x,test_y[:,5], 'mini_batch_update',batchsize)\n",
    "            log_prob6, accuracy6 = classifier_6.progress(test_x,test_y[:,6], 'mini_batch_update',batchsize)\n",
    "            log_prob7, accuracy7 = classifier_7.progress(test_x,test_y[:,7], 'mini_batch_update',batchsize)\n",
    "            log_prob8, accuracy8 = classifier_8.progress(test_x,test_y[:,8], 'mini_batch_update',batchsize)\n",
    "            log_prob9, accuracy9 = classifier_9.progress(test_x,test_y[:,9], 'mini_batch_update',batchsize)\n",
    "            \n",
    "            accuracylist0.append(accuracy0)\n",
    "            accuracylist1.append(accuracy1)\n",
    "            accuracylist2.append(accuracy2)\n",
    "            accuracylist3.append(accuracy3)\n",
    "            accuracylist4.append(accuracy4)\n",
    "            accuracylist5.append(accuracy5)\n",
    "            accuracylist6.append(accuracy6)\n",
    "            accuracylist7.append(accuracy7)\n",
    "            accuracylist8.append(accuracy8)\n",
    "            accuracylist9.append(accuracy9)\n",
    "\n",
    "            now = datetime.now()\n",
    "            current_time = now.strftime(\"%H:%M:%S\")\n",
    "            \n",
    "            print(\"epoch# \",i,\"  accuracy0=\",accuracy0,\n",
    "                  \"   Currenttime:\",current_time) \n",
    "            \n",
    "        plt.plot(range(0,epochmax),accuracylist0,label=\"0\")\n",
    "        plt.plot(range(0,epochmax),accuracylist1,label=\"1\")\n",
    "        plt.plot(range(0,epochmax),accuracylist2,label=\"2\")\n",
    "        plt.plot(range(0,epochmax),accuracylist3,label=\"3\")\n",
    "        plt.plot(range(0,epochmax),accuracylist4,label=\"4\")\n",
    "        plt.plot(range(0,epochmax),accuracylist5,label=\"5\")\n",
    "        plt.plot(range(0,epochmax),accuracylist6,label=\"6\")\n",
    "        plt.plot(range(0,epochmax),accuracylist7,label=\"7\")\n",
    "        plt.plot(range(0,epochmax),accuracylist8,label=\"8\")\n",
    "        plt.plot(range(0,epochmax),accuracylist9,label=\"9\")\n",
    "\n",
    "        \n",
    "        plt.legend(loc=\"lower left\")\n",
    "        plt.ylabel('Accuracy')\n",
    "        plt.xlabel('Epoch #')\n",
    "        plt.suptitle('Progress:Accuracy on the Test Set -MiniBatch')\n",
    "        plt.show()\n",
    "        \n",
    "        \n",
    "        return (weights0,weights1,weights2,weights3,weights4,weights5,weights6,weights7,weights8,weights9)\n",
    "        \n",
    "    def predict(self, test_image, test_label,weights):\n",
    "        # TO DO: This function should return the probabilities predicted by each of the models for some given \n",
    "        # input image. The probabilities are sorted with the most likely being listed first.\n",
    "        # Return a vector of shape (10, 2) with the first column holding the number and the second column with\n",
    "        # the probability that the test_image is that number\n",
    "        \n",
    "        problist= np.zeros((10, 2)) \n",
    "        problist[:,0]= range(0,10)\n",
    "        batchsize=1\n",
    "        correctcount_traingroup=0\n",
    "     \n",
    "        for j in range(0,10):\n",
    "            sigmd = 1/(1+(np.exp(-1*np.dot(weights[j],test_image)))) \n",
    "            problist[j,1]= sigmd\n",
    "\n",
    "        return problist\n",
    "         "
   ]
  },
  {
   "cell_type": "code",
   "execution_count": null,
   "metadata": {
    "deletable": false,
    "editable": false,
    "nbgrader": {
     "cell_type": "code",
     "checksum": "7a9848ee01129a955b176d30e8b5ad7b",
     "grade": true,
     "grade_id": "cell-6b2210e74f243cc5",
     "locked": true,
     "points": 5,
     "schema_version": 3,
     "solution": false,
     "task": false
    }
   },
   "outputs": [],
   "source": [
    "# DO NOT DELETE THIS CELL !!!"
   ]
  },
  {
   "cell_type": "code",
   "execution_count": null,
   "metadata": {
    "deletable": false,
    "editable": false,
    "nbgrader": {
     "cell_type": "code",
     "checksum": "0864f8ccc23364600d23825d74b4b805",
     "grade": true,
     "grade_id": "cell-c999e8642ad56c95",
     "locked": true,
     "points": 5,
     "schema_version": 3,
     "solution": false,
     "task": false
    }
   },
   "outputs": [],
   "source": [
    "# DO NOT DELETE THIS CELL !!!"
   ]
  },
  {
   "cell_type": "markdown",
   "metadata": {},
   "source": [
    "### QUESTION ###\n",
    "It is important to know how well your model did on the whole. You need to report the ___accuracy as a percentage___ on the training set and the test set from Numbers2. You should also plot a ___confusion matrix___ for both, just like you did on the last homework and mention the numbers that were misclassified the most. Finally use the predict method to predict the labels for the FIRST 10 instances from the test set, while also plotting the respective images for validation."
   ]
  },
  {
   "cell_type": "markdown",
   "metadata": {},
   "source": [
    "Train a MultiLogReg Model in the cell below. DO NOT DELETE THE CELL"
   ]
  },
  {
   "cell_type": "code",
   "execution_count": 15,
   "metadata": {
    "deletable": false,
    "nbgrader": {
     "cell_type": "code",
     "checksum": "6adc8b9ff983ac7fb1d90033bb0841fa",
     "grade": true,
     "grade_id": "cell-5a678a51a11b6ce8",
     "locked": false,
     "points": 5,
     "schema_version": 3,
     "solution": true,
     "task": false
    }
   },
   "outputs": [
    {
     "name": "stderr",
     "output_type": "stream",
     "text": [
      "/home/scott/.local/lib/python3.6/site-packages/sklearn/preprocessing/_data.py:173: UserWarning: Numerical issues were encountered when centering the data and might not be solved. Dataset may contain too large values. You may need to prescale your features.\n",
      "  warnings.warn(\"Numerical issues were encountered \"\n",
      "/home/scott/.local/lib/python3.6/site-packages/sklearn/preprocessing/_data.py:190: UserWarning: Numerical issues were encountered when scaling the data and might not be solved. The standard deviation of the data is probably very close to 0. \n",
      "  warnings.warn(\"Numerical issues were encountered \"\n",
      "/home/scott/.local/lib/python3.6/site-packages/ipykernel_launcher.py:84: RuntimeWarning: overflow encountered in exp\n",
      "/home/scott/.local/lib/python3.6/site-packages/ipykernel_launcher.py:219: RuntimeWarning: divide by zero encountered in log\n"
     ]
    },
    {
     "name": "stdout",
     "output_type": "stream",
     "text": [
      "epoch#  0   accuracy0= 0.79136    Currenttime: 22:43:40\n",
      "epoch#  1   accuracy0= 0.7948    Currenttime: 22:43:54\n",
      "epoch#  2   accuracy0= 0.78104    Currenttime: 22:44:12\n",
      "epoch#  3   accuracy0= 0.80392    Currenttime: 22:44:30\n",
      "epoch#  4   accuracy0= 0.71968    Currenttime: 22:44:51\n",
      "epoch#  5   accuracy0= 0.75984    Currenttime: 22:45:12\n",
      "epoch#  6   accuracy0= 0.79384    Currenttime: 22:45:33\n",
      "epoch#  7   accuracy0= 0.80528    Currenttime: 22:45:48\n",
      "epoch#  8   accuracy0= 0.79576    Currenttime: 22:46:03\n",
      "epoch#  9   accuracy0= 0.80296    Currenttime: 22:46:19\n",
      "epoch#  10   accuracy0= 0.78648    Currenttime: 22:46:34\n",
      "epoch#  11   accuracy0= 0.78048    Currenttime: 22:46:49\n",
      "epoch#  12   accuracy0= 0.8028    Currenttime: 22:47:04\n",
      "epoch#  13   accuracy0= 0.76608    Currenttime: 22:47:19\n",
      "epoch#  14   accuracy0= 0.74512    Currenttime: 22:47:33\n"
     ]
    },
    {
     "data": {
      "image/png": "[encoded data removed]",
      "text/plain": [
       "<Figure size 432x288 with 1 Axes>"
      ]
     },
     "metadata": {
      "needs_background": "light"
     },
     "output_type": "display_data"
    }
   ],
   "source": [
    "# YOUR CODE HERE\n",
    "g=MultiLogReg(data2.train_x,data2.train_y)\n",
    "models= g.get_optimal_parameters()"
   ]
  },
  {
   "cell_type": "markdown",
   "metadata": {},
   "source": [
    "Compute the accuracy on the train and test data from Numbers2 using the model you trained above. DO NOT DELETE THE CELL"
   ]
  },
  {
   "cell_type": "code",
   "execution_count": 40,
   "metadata": {
    "deletable": false,
    "nbgrader": {
     "cell_type": "code",
     "checksum": "7216ab7a873dd1839e1ba8b783aec16e",
     "grade": true,
     "grade_id": "cell-f82d99c679208a96",
     "locked": false,
     "points": 5,
     "schema_version": 3,
     "solution": true,
     "task": false
    }
   },
   "outputs": [
    {
     "name": "stderr",
     "output_type": "stream",
     "text": [
      "/home/scott/.local/lib/python3.6/site-packages/sklearn/preprocessing/_data.py:173: UserWarning: Numerical issues were encountered when centering the data and might not be solved. Dataset may contain too large values. You may need to prescale your features.\n",
      "  warnings.warn(\"Numerical issues were encountered \"\n",
      "/home/scott/.local/lib/python3.6/site-packages/sklearn/preprocessing/_data.py:190: UserWarning: Numerical issues were encountered when scaling the data and might not be solved. The standard deviation of the data is probably very close to 0. \n",
      "  warnings.warn(\"Numerical issues were encountered \"\n",
      "/home/scott/.local/lib/python3.6/site-packages/sklearn/preprocessing/_data.py:173: UserWarning: Numerical issues were encountered when centering the data and might not be solved. Dataset may contain too large values. You may need to prescale your features.\n",
      "  warnings.warn(\"Numerical issues were encountered \"\n",
      "/home/scott/.local/lib/python3.6/site-packages/sklearn/preprocessing/_data.py:190: UserWarning: Numerical issues were encountered when scaling the data and might not be solved. The standard deviation of the data is probably very close to 0. \n",
      "  warnings.warn(\"Numerical issues were encountered \"\n",
      "/home/scott/.local/lib/python3.6/site-packages/ipykernel_launcher.py:175: RuntimeWarning: overflow encountered in exp\n"
     ]
    },
    {
     "name": "stdout",
     "output_type": "stream",
     "text": [
      "accuracy_for train data= 0.67054\n",
      "accuracy_for test data= 0.6869\n"
     ]
    }
   ],
   "source": [
    "# YOUR CODE HERE\n",
    "\n",
    "# output train and test groups of data individually! (The kind at the original split) Do not combine them\n",
    "\n",
    "#loop through each \n",
    "#for p in range(0,):\n",
    "\n",
    "X_train_norm = preprocessing.scale(data2.train_x)\n",
    "X_test_norm = preprocessing.scale(data2.test_x)\n",
    "correctcount_traingroup=0\n",
    "correctcount_testgroup=0\n",
    "\n",
    "\n",
    "\n",
    "for p in range(0,data2.train_x.shape[0]):\n",
    "\n",
    "    probA=g.predict(X_train_norm[p],data2.train_y[p],models)\n",
    "    \n",
    "    yguess_v1 = np.where(probA[:,1] == np.amax(probA[:,1]))\n",
    "    yguess_v2=yguess_v1[0]\n",
    "    yguess_v3=yguess_v2[0]\n",
    "    #print(\"prob=\",prob)\n",
    "    #print(np.amax(prob[:,1]))\n",
    "    #print(\"yguess=\",yguess_v3)\n",
    "    #print(\"y actual= \",data2.train_y[p])\n",
    "    if(yguess_v3==data2.train_y[p]):\n",
    "        correctcount_traingroup+=1\n",
    "    #print(\"# correct=\", correctcount_traingroup)   \n",
    "    \n",
    "accuracy_traingroup= correctcount_traingroup/data2.train_x.shape[0]\n",
    "print(\"accuracy_for train data=\",accuracy_traingroup) \n",
    "\n",
    "\n",
    "\n",
    "for p in range(0,data2.test_x.shape[0]):\n",
    "    \n",
    "    probB=g.predict(X_test_norm[p],data2.test_y[p],models)\n",
    "    yguess_v1 = np.where(probB[:,1] == np.amax(probB[:,1]))\n",
    "    yguess_v2=yguess_v1[0]\n",
    "    yguess_v3=yguess_v2[0]\n",
    "                                                 \n",
    "    if(yguess_v3==data2.test_y[p]):\n",
    "        correctcount_testgroup+=1\n",
    "\n",
    "            \n",
    "accuracy_testgroup= correctcount_testgroup/data2.test_x.shape[0]\n",
    "print(\"Accuracy for test data=\",accuracy_testgroup)   \n",
    "\n",
    "    "
   ]
  },
  {
   "cell_type": "markdown",
   "metadata": {},
   "source": [
    "Plot the confusion matrix on Test and Train Data using the model you trained before. DO NOT DELETE THE CELL"
   ]
  },
  {
   "cell_type": "code",
   "execution_count": 49,
   "metadata": {
    "deletable": false,
    "nbgrader": {
     "cell_type": "code",
     "checksum": "12ad7b3162aa14d26a16359ea6b937e7",
     "grade": true,
     "grade_id": "cell-99273a4c41cde194",
     "locked": false,
     "points": 5,
     "schema_version": 3,
     "solution": true,
     "task": false
    }
   },
   "outputs": [
    {
     "name": "stderr",
     "output_type": "stream",
     "text": [
      "/home/scott/.local/lib/python3.6/site-packages/ipykernel_launcher.py:175: RuntimeWarning: overflow encountered in exp\n"
     ]
    },
    {
     "name": "stdout",
     "output_type": "stream",
     "text": [
      "[[4924.  181.   98.   51.  207.   85.   49.   43.  177.  118.]\n",
      " [ 179. 5654.  101.   74.  242.   81.   62.   55.  238.  119.]\n",
      " [ 536.  619. 3262.  123.  422.   86.  104.   47.  612.  148.]\n",
      " [ 752.  935.  334. 2101.  372.  224.   71.   60.  981.  303.]\n",
      " [ 266.  266.  155.   51. 4330.  189.   43.   57.  163.  319.]\n",
      " [ 685.  357.   77.   96.  415. 2720.   70.   38.  699.  212.]\n",
      " [1173.  562.  252.   66.  790.  212. 2234.   52.  426.  198.]\n",
      " [ 385.  751.  151.   78.  878.   99.   47. 2335.  420. 1101.]\n",
      " [ 447.  704.  113.   60.  312.  360.   42.   53. 3528.  167.]\n",
      " [ 347.  418.  106.   70.  964.  113.   50.  111.  302. 3485.]]\n"
     ]
    }
   ],
   "source": [
    "# YOUR CODE HERE\n",
    "confmatrix=np.zeros((10, 10))\n",
    "  #in confmatrix, the rows are the actual values,\n",
    "        #and the columns are the guesses\n",
    "        \n",
    "for p in range(0,data2.train_x.shape[0]):\n",
    "\n",
    "    probA=g.predict(X_train_norm[p],data2.train_y[p],models)\n",
    "    \n",
    "    yguess_v1 = np.where(probA[:,1] == np.amax(probA[:,1]))\n",
    "    yguess_v2=yguess_v1[0]\n",
    "    yguess_v3=yguess_v2[0]\n",
    "    \n",
    "    confmatrix[data2.train_y[p],yguess_v3]+=1\n",
    "    \n",
    "for p in range(0,data2.test_x.shape[0]):\n",
    "    \n",
    "    probB=g.predict(X_test_norm[p],data2.test_y[p],models)\n",
    "    yguess_v1 = np.where(probB[:,1] == np.amax(probB[:,1]))\n",
    "    yguess_v2=yguess_v1[0]\n",
    "    yguess_v3=yguess_v2[0]\n",
    "                                                 \n",
    "    confmatrix[data2.train_y[p],yguess_v3]+=1\n",
    "\n",
    "\n",
    "\n",
    "print(confmatrix)\n"
   ]
  },
  {
   "cell_type": "markdown",
   "metadata": {},
   "source": [
    "Predict Labels of First 10 datapoints from your test set and also the plot their images in the cell below. DO NOT DELETE THE CELL"
   ]
  },
  {
   "cell_type": "code",
   "execution_count": 41,
   "metadata": {
    "deletable": false,
    "nbgrader": {
     "cell_type": "code",
     "checksum": "357ff8dee98adb78a768e9f690b3245d",
     "grade": true,
     "grade_id": "cell-2ae148d5cb9b50b2",
     "locked": false,
     "points": 5,
     "schema_version": 3,
     "solution": true,
     "task": false
    }
   },
   "outputs": [
    {
     "name": "stdout",
     "output_type": "stream",
     "text": [
      "prediction=  1\n",
      "label=  3\n"
     ]
    },
    {
     "data": {
      "image/png": "[encoded data removed]",
      "text/plain": [
       "<Figure size 432x288 with 1 Axes>"
      ]
     },
     "metadata": {
      "needs_background": "light"
     },
     "output_type": "display_data"
    },
    {
     "name": "stdout",
     "output_type": "stream",
     "text": [
      "prediction=  8\n",
      "label=  8\n"
     ]
    },
    {
     "data": {
      "image/png": "[encoded data removed]",
      "text/plain": [
       "<Figure size 432x288 with 1 Axes>"
      ]
     },
     "metadata": {
      "needs_background": "light"
     },
     "output_type": "display_data"
    },
    {
     "name": "stdout",
     "output_type": "stream",
     "text": [
      "prediction=  0\n",
      "label=  6\n"
     ]
    },
    {
     "data": {
      "image/png": "[encoded data removed]",
      "text/plain": [
       "<Figure size 432x288 with 1 Axes>"
      ]
     },
     "metadata": {
      "needs_background": "light"
     },
     "output_type": "display_data"
    },
    {
     "name": "stdout",
     "output_type": "stream",
     "text": [
      "prediction=  9\n",
      "label=  9\n"
     ]
    },
    {
     "data": {
      "image/png": "[encoded data removed]",
      "text/plain": [
       "<Figure size 432x288 with 1 Axes>"
      ]
     },
     "metadata": {
      "needs_background": "light"
     },
     "output_type": "display_data"
    },
    {
     "name": "stdout",
     "output_type": "stream",
     "text": [
      "prediction=  6\n",
      "label=  6\n"
     ]
    },
    {
     "data": {
      "image/png": "[encoded data removed]",
      "text/plain": [
       "<Figure size 432x288 with 1 Axes>"
      ]
     },
     "metadata": {
      "needs_background": "light"
     },
     "output_type": "display_data"
    },
    {
     "name": "stdout",
     "output_type": "stream",
     "text": [
      "prediction=  4\n",
      "label=  4\n"
     ]
    },
    {
     "data": {
      "image/png": "[encoded data removed]",
      "text/plain": [
       "<Figure size 432x288 with 1 Axes>"
      ]
     },
     "metadata": {
      "needs_background": "light"
     },
     "output_type": "display_data"
    },
    {
     "name": "stdout",
     "output_type": "stream",
     "text": [
      "prediction=  5\n",
      "label=  5\n"
     ]
    },
    {
     "data": {
      "image/png": "[encoded data removed]",
      "text/plain": [
       "<Figure size 432x288 with 1 Axes>"
      ]
     },
     "metadata": {
      "needs_background": "light"
     },
     "output_type": "display_data"
    },
    {
     "name": "stdout",
     "output_type": "stream",
     "text": [
      "prediction=  0\n",
      "label=  3\n"
     ]
    },
    {
     "data": {
      "image/png": "[encoded data removed]",
      "text/plain": [
       "<Figure size 432x288 with 1 Axes>"
      ]
     },
     "metadata": {
      "needs_background": "light"
     },
     "output_type": "display_data"
    },
    {
     "name": "stdout",
     "output_type": "stream",
     "text": [
      "prediction=  8\n",
      "label=  8\n"
     ]
    },
    {
     "data": {
      "image/png": "[encoded data removed]",
      "text/plain": [
       "<Figure size 432x288 with 1 Axes>"
      ]
     },
     "metadata": {
      "needs_background": "light"
     },
     "output_type": "display_data"
    },
    {
     "name": "stdout",
     "output_type": "stream",
     "text": [
      "prediction=  4\n",
      "label=  4\n"
     ]
    },
    {
     "data": {
      "image/png": "[encoded data removed]",
      "text/plain": [
       "<Figure size 432x288 with 1 Axes>"
      ]
     },
     "metadata": {
      "needs_background": "light"
     },
     "output_type": "display_data"
    }
   ],
   "source": [
    "# YOUR CODE HERE\n",
    "for s in range(0,10):\n",
    "    probC=g.predict(X_test_norm[s],data2.test_y[s],models)\n",
    "    yguess_v1 = np.where(probC[:,1] == np.amax(probC[:,1]))\n",
    "    yguess_v2=yguess_v1[0]\n",
    "    yguess_v3=yguess_v2[0]\n",
    "    \n",
    "    print(\"prediction= \",yguess_v3 )\n",
    "    print(\"label= \", data2.test_y[s])\n",
    "    \n",
    "    digitImage=data2.test_x[s].reshape(28,28)\n",
    "    plt.gray()\n",
    "    plt.imshow(digitImage)\n",
    "    plt.show()"
   ]
  }
 ],
 "metadata": {
  "kernelspec": {
   "display_name": "Python 3",
   "language": "python",
   "name": "python3"
  },
  "language_info": {
   "codemirror_mode": {
    "name": "ipython",
    "version": 3
   },
   "file_extension": ".py",
   "mimetype": "text/x-python",
   "name": "python",
   "nbconvert_exporter": "python",
   "pygments_lexer": "ipython3",
   "version": "3.6.9"
  }
 },
 "nbformat": 4,
 "nbformat_minor": 4
}
