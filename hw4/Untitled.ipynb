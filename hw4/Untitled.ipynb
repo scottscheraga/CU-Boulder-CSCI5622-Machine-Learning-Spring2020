{
 "cells": [
  {
   "cell_type": "code",
   "execution_count": 2,
   "metadata": {},
   "outputs": [],
   "source": [
    "\n",
    "import sklearn\n",
    "from sklearn import preprocessing\n",
    "from sklearn.preprocessing import MinMaxScaler\n",
    "\n",
    "\n",
    "\n"
   ]
  },
  {
   "cell_type": "code",
   "execution_count": 7,
   "metadata": {},
   "outputs": [
    {
     "name": "stdout",
     "output_type": "stream",
     "text": [
      "[[-1], [-0.5], [0], [1]]\n",
      "[[0.  ]\n",
      " [0.25]\n",
      " [0.5 ]\n",
      " [1.  ]]\n"
     ]
    }
   ],
   "source": [
    "data = [[-1], [-0.5], [0], [1]]\n",
    "scaler = MinMaxScaler()\n",
    "scaler.fit(data)\n",
    "\n",
    "#print(scaler.data_max_)\n",
    "print(data)\n",
    "print(scaler.transform(data))\n",
    "\n",
    "#print(scaler.transform([[2, 2]]))"
   ]
  },
  {
   "cell_type": "code",
   "execution_count": null,
   "metadata": {},
   "outputs": [],
   "source": []
  }
 ],
 "metadata": {
  "kernelspec": {
   "display_name": "Python 3",
   "language": "python",
   "name": "python3"
  },
  "language_info": {
   "codemirror_mode": {
    "name": "ipython",
    "version": 3
   },
   "file_extension": ".py",
   "mimetype": "text/x-python",
   "name": "python",
   "nbconvert_exporter": "python",
   "pygments_lexer": "ipython3",
   "version": "3.6.9"
  }
 },
 "nbformat": 4,
 "nbformat_minor": 4
}
