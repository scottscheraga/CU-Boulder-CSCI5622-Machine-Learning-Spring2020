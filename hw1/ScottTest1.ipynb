{
 "cells": [
  {
   "cell_type": "code",
   "execution_count": 5,
   "metadata": {},
   "outputs": [],
   "source": [
    "import numpy as np\n",
    "import matplotlib.pyplot as plt\n",
    "import sklearn\n",
    "import sklearn.datasets\n",
    "\n",
    "#x = np.array([[3,1],[2,8], [2,7], [5,2],[3,2],[8,2],[2,4]])"
   ]
  },
  {
   "cell_type": "code",
   "execution_count": 13,
   "metadata": {},
   "outputs": [],
   "source": [
    "class KNNClassifier:\n",
    "    \n",
    "    def __init__(self, X, y, k = 5):\n",
    "        \"\"\"\n",
    "        Initialize our custom KNN classifier\n",
    "        PARAMETERS\n",
    "        X - our training data features\n",
    "        y - our training data answers\n",
    "        k - the number of nearest neighbors to consider for classification\n",
    "        \"\"\"\n",
    "        #self._model = sklearn.neighbors.BallTree(X)\n",
    "        self._y = y\n",
    "        self._k = k\n",
    "        self._counts = self.getCounts()\n",
    "        \n",
    "    def getCounts(self):\n",
    "\n",
    "        counts = dict({})\n",
    "        for a in range(self._y.size):\n",
    "            if self._y[0,a] in counts: \n",
    "                # if answer currently exists in  the list of keys in counts, add 1 to the value\n",
    "                    counts[self._y[0,a]]= counts[self._y[0,a]]+1\n",
    "                    # if not, create a new key with the answer\n",
    "            else: counts[self._y[0,a]] = 1\n",
    "                \n",
    "        print(counts)    \n",
    "        return(counts)\n",
    "    \n",
    "    def majority(self, indices):\n",
    "        \"\"\"\n",
    "        Given indices, report the majority label of those points.\n",
    "        For a tie, report the most common label in the data set.\n",
    "        PARAMETERS\n",
    "        indices - an np.array, where each element is an index of a neighbor\n",
    "        RETURNS\n",
    "        label - the majority label of our neighbors\n",
    "        \"\"\"\n",
    "        label = 0\n",
    "        \n",
    "        comparetable=getCounts()   #Ldict is made up  of {keys:values}\n",
    "        # Reference: https://stackoverflow.com/questions/42044090/return-the-maximum-value-from-a-dictionary/42044202\n",
    "        max_value = max(comparetable.values())  # get majority quantity\n",
    "        max_keys = [k for k, v in dic.items() if v == max_value] # getting all keys containing the `maximum`\n",
    "\n",
    "        print(max_value, max_keys)\n",
    "        \n",
    "        \"\"\"\n",
    "        max(comparetable)\n",
    "        if countsB[1]>countsB[-1]:\n",
    "            label = 1\n",
    "        elif countsB[1]<countsB[-1]:\n",
    "            label = -1\n",
    "        #If there is a tie, look at the entire list of data set labels (do the same as getCounts() )\n",
    "        else: \n",
    "            countsC = dict({1:0,-1:0})\n",
    "            for c in range(self._y.size):\n",
    "                if self._y[0,c]==1: \n",
    "                    countsC[1]= countsC[1]+1\n",
    "                else:\n",
    "                    countsC[-1]= countsC[-1]+1\n",
    "            if countsC[1]>countsC[-1]:\n",
    "                label = 1\n",
    "            \n",
    "            elif countsC[1]<countsC[-1]:\n",
    "                label = -1\n",
    "        \"\"\"\n",
    "        #BEGIN Workspace 1.2\n",
    "        #TODO: Determine majority, assign it to label\n",
    "        #END Workspace 1.2\n",
    "        return(label)\n",
    "    "
   ]
  },
  {
   "cell_type": "code",
   "execution_count": 14,
   "metadata": {},
   "outputs": [
    {
     "name": "stderr",
     "output_type": "stream",
     "text": [
      "."
     ]
    },
    {
     "name": "stdout",
     "output_type": "stream",
     "text": [
      "{1: 3, -1: 4}\n"
     ]
    },
    {
     "name": "stderr",
     "output_type": "stream",
     "text": [
      "\n",
      "----------------------------------------------------------------------\n",
      "Ran 1 test in 0.001s\n",
      "\n",
      "OK\n"
     ]
    },
    {
     "data": {
      "text/plain": [
       "<unittest.runner.TextTestResult run=1 errors=0 failures=0>"
      ]
     },
     "execution_count": 14,
     "metadata": {},
     "output_type": "execute_result"
    }
   ],
   "source": [
    "import unittest\n",
    "\n",
    "class KNNTester(unittest.TestCase):\n",
    "    def setUp(self):\n",
    "        self.x = np.array([[3,1],[2,8], [2,7], [5,2],[3,2],[8,2],[2,4]])\n",
    "        self.y = np.array([[1, -1, -1, 1, -1, 1, -1]])\n",
    "        self.knnfive = KNNClassifier(self.x, self.y)\n",
    "      #  self.knnthree = KNNClassifier(self.x, self.y, 3)\n",
    "      #  self.knnone = KNNClassifier(self.x, self.y, 1)\n",
    "        \n",
    "        self.testPoints = np.array([[2,1], [2,6], [4, 4]])\n",
    "        \n",
    "    def testCounter(self):\n",
    "        \"\"\"\n",
    "        Test getCounts function from knnclassifier\n",
    "        \"\"\"\n",
    "        self.assertEqual(self.knnfive._counts[1], 3)\n",
    "        self.assertEqual(self.knnfive._counts[-1], 4)\n",
    "    \n",
    "tests = KNNTester()\n",
    "myTests = unittest.TestLoader().loadTestsFromModule(tests)\n",
    "unittest.TextTestRunner().run(myTests)"
   ]
  },
  {
   "cell_type": "code",
   "execution_count": null,
   "metadata": {},
   "outputs": [],
   "source": []
  },
  {
   "cell_type": "code",
   "execution_count": null,
   "metadata": {},
   "outputs": [],
   "source": []
  }
 ],
 "metadata": {
  "kernelspec": {
   "display_name": "Python 3",
   "language": "python",
   "name": "python3"
  },
  "language_info": {
   "codemirror_mode": {
    "name": "ipython",
    "version": 3
   },
   "file_extension": ".py",
   "mimetype": "text/x-python",
   "name": "python",
   "nbconvert_exporter": "python",
   "pygments_lexer": "ipython3",
   "version": "3.6.9"
  }
 },
 "nbformat": 4,
 "nbformat_minor": 4
}
