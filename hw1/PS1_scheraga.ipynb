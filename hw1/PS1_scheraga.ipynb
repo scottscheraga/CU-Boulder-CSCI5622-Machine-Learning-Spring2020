{
 "cells": [
  {
   "cell_type": "markdown",
   "metadata": {},
   "source": [
    "# Problem Set 1 - KNN\n",
    "## CSCI 5622 - Spring 2020\n",
    "## SCOTT SCHERAGA\n",
    "\n",
    "For today's assignment, we will be implementing our own K-Nearest Neighbors (KNN) algorithm.\n",
    "\n",
    "*But Professor Quigley, hasn't someone else already written KNN before?*\n",
    "\n",
    "Yes, you are not the first to implement KNN, or basically any algorithm we'll work with in this class. But 1) I'll know that you know what's really going on, and 2) you'll know you can do it, because 2a) someday you might have to implement some machine learning algorithm from scratch - maybe for a new platform (do you need to run python on your SmartToaster just to get it to learn how users like their toast?), maybe because you want to tweak the algorithm (there's always a better approach...), or maybe because you're working on something important and you need to control exactly what's on there (should you really be running anaconda on your secret spy plane?).\n",
    "\n",
    "That said - we're not going to implement *everything*. We'll start by importing a few helper functions"
   ]
  },
  {
   "cell_type": "code",
   "execution_count": 1,
   "metadata": {},
   "outputs": [],
   "source": [
    "import numpy as np\n",
    "import matplotlib.pyplot as plt\n",
    "import sklearn\n",
    "import sklearn.datasets"
   ]
  },
  {
   "cell_type": "markdown",
   "metadata": {},
   "source": [
    "*Wait a minute - didn't we just import Scikit-learn (sklearn)? The package with baked-in machine learning tools?*\n",
    "\n",
    "Yes - but it also has a ton of helper functions, including a dataset we'll be using later. But, for now, let's set up a KNNClassifier class."
   ]
  },
  {
   "cell_type": "code",
   "execution_count": 3,
   "metadata": {},
   "outputs": [],
   "source": [
    "import sklearn.neighbors\n",
    "import matplotlib.pyplot as plt\n",
    "\n",
    "class KNNClassifier:\n",
    "    \n",
    "    def __init__(self, X, y, k = 5):\n",
    "        \"\"\"\n",
    "        Initialize our custom KNN classifier\n",
    "        PARAMETERS\n",
    "        X - our training data features\n",
    "        y - our training data answers\n",
    "        k - the number of nearest neighbors to consider for classification\n",
    "        \"\"\"\n",
    "        self._model = sklearn.neighbors.BallTree(X, metric='euclidean')\n",
    "        self._y = y\n",
    "        self._k = k\n",
    "        self._counts = self.getCounts()\n",
    "        \n",
    "    def getCounts(self):\n",
    "        \"\"\"\n",
    "        Creates a dictionary storing the counts of each answer class found in y\n",
    "        RETURNS\n",
    "        counts - a dictionary of counts of answer classes\n",
    "        \"\"\"\n",
    "        #BEGIN Workspace 1.1\n",
    "        #TODO: Modify and/or add to counts so that it returns a count of each answer class found in y\n",
    "        \n",
    "        \n",
    "        counts = dict({})\n",
    "        for a in range(self._y.size):\n",
    "            if self._y[a] in counts:\n",
    "                    counts[self._y[a]]= counts[self._y[a]]+1\n",
    "            else: counts[self._y[a]] = 1\n",
    "                \n",
    "        #print(counts)    \n",
    "        #END Workspace 1.1\n",
    "        return(counts)\n",
    "    \n",
    "    def majority(self, indices):\n",
    "        \"\"\"\n",
    "        Given indices, report the majority label of those points.\n",
    "        For a tie, report the most common label in the data set.\n",
    "        PARAMETERS\n",
    "        indices - an np.array, where each element is an index of a neighbor\n",
    "        RETURNS\n",
    "        label - the majority label of our neighbors\n",
    "        \"\"\"\n",
    "        #BEGIN Workspace 1.2\n",
    "        #TODO: Determine majority, assign it to label\n",
    "        \n",
    "        label = 0\n",
    "        countsmaj = dict()\n",
    "        #print(\"indices=\",indices)\n",
    "        for i in indices: \n",
    "            #print(self._y[0,i])\n",
    "            if self._y[i] in countsmaj:\n",
    "                countsmaj[self._y[i]]= countsmaj[self._y[i]]+1\n",
    "            else: countsmaj[self._y[i]] = 1\n",
    "        #print(\"k closest neighbor values= \",countsmaj)      \n",
    "        \n",
    "        #dict is made up  of {keys:values}\n",
    "        # Reference: https://stackoverflow.com/questions/42044090/return-the-maximum-value-from-a-dictionary/42044202\n",
    "        max_value = max(countsmaj.values()) \n",
    "        max_keys = [u for u, v in countsmaj.items() if v == max_value] \n",
    "        #len(max_keys)\n",
    "        \n",
    "        #print(\"max values= \",max_value)\n",
    "        \n",
    "        #print(\"max keys= \",max_keys )\n",
    "        \n",
    "        if len(max_keys)==1: #if there is only 1 maximum qty, there is no tie\n",
    "            #print(max_value)\n",
    "            label = max_keys\n",
    "        else: #run getCounts()\n",
    "        #create list of quantities (listmax) of the keys of the full set of points,\n",
    "        #that tied from only looking at the keys at the indicies\n",
    "            listmax=[] \n",
    "            for j in max_keys:\n",
    "                listmax.append(self._counts[j])\n",
    "   # print(\"quantities of each of the max keys in the entire array\")\n",
    "            #print (\"listmax\", listmax)\n",
    "    #find index of largest quantity, and then use that index  in max_keys. That breaks the tie. \n",
    "            #print (max_keys[listmax.index(max(listmax))])\n",
    "            label = max_keys[listmax.index(max(listmax))]\n",
    "            #print(\"majority answer= \", label)\n",
    "        #label=label[0]\n",
    "        #print(\"majority answer= \", label)\n",
    "        \n",
    "        #END Workspace 1.2\n",
    "        return(label)\n",
    "    \n",
    "    def classify(self, point):\n",
    "        \"\"\"\n",
    "        Given a new data point, classify it according to the training data X \n",
    "        and our number of neighbors k into the appropriate class in our \n",
    "        training answers y\n",
    "        PARAMETERS\n",
    "        point - a feature vector of our test point\n",
    "        RETURNS\n",
    "        ans - our predicted classification\n",
    "        \"\"\"\n",
    "        ans = 0\n",
    "        #BEGIN Workspace 1.3\n",
    "        #TODO: perform classification of point here\n",
    "        #HINT: use the majority function created above\n",
    "        #HINT: use the euclidian distance discussed in lecture to find nearest neighbors\n",
    "        \n",
    "                    \n",
    "        #print(\"k =\",self._k)\n",
    "        #self._model = sklearn.neighbors.BallTree(X)\n",
    "        \n",
    "        dist, ind = self._model.query(point,self._k )  \n",
    "        #print(\"ind= \",ind) # indices of k closest neighbors \n",
    "        #print(\"distances= \", dist) # distances to k closest neighbors\n",
    "        \n",
    "        ans= self.majority(ind[0])\n",
    "        #print(\"majority= \", ans)\n",
    "        #print(\"ans type=\", type(ans))\n",
    "        if isinstance(ans, list):\n",
    "            #print(\"list detected\")\n",
    "            return(ans[0])\n",
    "        return(ans)\n",
    "        #END Workspace 1.3\n",
    "    def confusionMatrix(self, testX, testY,imageTF=False,showdataTF=False):\n",
    "        \"\"\"\n",
    "        Generate a confusion matrix for the given test set\n",
    "        PARAMETERS\n",
    "        testX - an np.array of feature vectors of test points\n",
    "        testY - the corresponding correct classifications of our test set\n",
    "        RETURN\n",
    "        C - an N*N np.array of counts, where N is the number of classes \n",
    "        in our classifier\n",
    "        \"\"\"\n",
    "        #BEGIN Workspace 1.4\n",
    "        #TODO: Run classification for the test set, compare to test answers,\n",
    "        #and add counts to matrix\n",
    "        \n",
    "        #print(\"test x shape=\", testX.shape[0])\n",
    "        #print(\"test y= \",testY)\n",
    "        \n",
    "        \n",
    "        #create an array of each point's actual value (column 0)\n",
    "        #and values guessed for each test point (column 1)\n",
    "        comptable= np.zeros((testX.shape[0],2))\n",
    "        #print (\"case 0 is classified as \", self.classify(testX[:1]))\n",
    "        for b in range(testX.shape[0]):\n",
    "                #print(\"---------------\")\n",
    "                #print(\"point to test= \",testX[b:(b+1)])\n",
    "                #print(\"b+1=\", b+1)\n",
    "                comptable[b,0]= testY[b]\n",
    "                #self.classify(testX[0])\n",
    "                comptable[b,1]= self.classify(testX[b:(b+1)])\n",
    "                \n",
    "                \n",
    "                if comptable[b,0]!=comptable[b,1]: \n",
    "                    if showdataTF==True:\n",
    "                        print(\"guess #\",b, \"was\", comptable[b,1],\"| Truth is=\",testY[b])\n",
    "                    if imageTF==True:\n",
    "                        #print(type(testX[b].reshape((8, 8))))\n",
    "                        #print(testX[b].reshape((8, 8)))\n",
    "                        plt.gray()\n",
    "                        plt.matshow(testX[b].reshape((8, 8)))\n",
    "                        plt.show()\n",
    "                        \n",
    "                        \n",
    "                \n",
    "        #print(\"---------------\")\n",
    "        #print(\"actual vs guess= \")\n",
    "        #print(comptable)\n",
    "        \n",
    "        #create lookup dictionary of index and answers\n",
    "        #values are indicies,keys are answers\n",
    "        countsmain= self.getCounts()\n",
    "        #print(\"getCounts= \", countsmain)\n",
    "        lookupdict = {}\n",
    "        lookuplist = []\n",
    "        increm=0   \n",
    "        \n",
    "        #sort the answers by value from smallest to greatest,\n",
    "        #in order for the confusion matrix to be more readable\n",
    "        for r in countsmain:\n",
    "            lookuplist.append(r)\n",
    "        lookuplist.sort()  \n",
    "        #print(lookuplist)    \n",
    "        \n",
    "        for g in lookuplist:\n",
    "            lookupdict[g]=increm\n",
    "            increm+=1  \n",
    "        \n",
    "        \n",
    "        #create an N*N array with N= number of classes\n",
    "        confmatrix= np.zeros((len(countsmain),len(countsmain)))\n",
    "        #in confmatrix, the rows are the actual values,\n",
    "        #and the columns are the guesses\n",
    "        for row in range(len(lookupdict)):\n",
    "                for col in range(len(lookupdict)):\n",
    "                    for k in range(testX.shape[0]):\n",
    "                        if lookupdict[comptable[k,0]]==row and lookupdict[comptable[k,1]]==col:\n",
    "                            confmatrix[row,col]+=1\n",
    "                \n",
    "                            #print(\"MATCH!\")\n",
    "                            #print(\"row= \",row)\n",
    "                            #print(\"col= \",col)\n",
    "                        #else:\n",
    "                    \n",
    "                           \n",
    "        if showdataTF==True:                    \n",
    "            print(\"confusion matrix= \")    \n",
    "            print(confmatrix)    \n",
    "            \n",
    "        \n",
    "\n",
    "        #C = np.array()\n",
    "        \n",
    "        #END Workspace 1.4\n",
    "        C = confmatrix\n",
    "        return(C)\n",
    "    \n",
    "    def accuracy(self, C,scoredispTF):\n",
    "        \"\"\"\n",
    "        Generate an accuracy score for the classifier based on the confusion matrix\n",
    "        PARAMETERS\n",
    "        C - an np.array of counts\n",
    "        RETURN\n",
    "        score - an accuracy score\n",
    "        \"\"\"\n",
    "        score = np.sum(C.diagonal()) / C.sum()\n",
    "        if scoredispTF==True:\n",
    "            print(\"score= \", score)\n",
    "        return(score)"
   ]
  },
  {
   "cell_type": "markdown",
   "metadata": {},
   "source": [
    "*But professor, this code isn't complete!*\n",
    "\n",
    "### Problem 1: Complete our KNN Classifier - 40 Points (10 each)\n",
    "\n",
    "1.1 - Complete the getCounts function to return the count of each class found in the training set\n",
    "\n",
    "1.2 - Complete the majority function to determine the majority class of a series of neighbors\n",
    "\n",
    "1.3 - Complete the classify function to capture the predicted class of a new datapoint\n",
    "\n",
    " - HINT: Use the BallTree documentation to determine how to retrieve neighbors from the model (https://scikit-learn.org/stable/modules/generated/sklearn.neighbors.BallTree.html#sklearn.neighbors.BallTree)\n",
    "\n",
    "1.4 - Complete the confusionMatrix function to reveal the results of classification\n",
    "\n",
    "You can take a look at the unit tests below to see how we create data to input into our classifier, what kinds of things we expect as output, etc. You should also consider expanding the test cases to make sure your classifier is working correctly.\n"
   ]
  },
  {
   "cell_type": "code",
   "execution_count": 4,
   "metadata": {},
   "outputs": [
    {
     "name": "stderr",
     "output_type": "stream",
     "text": [
      ".."
     ]
    },
    {
     "name": "stdout",
     "output_type": "stream",
     "text": [
      "counts= {1: 3, -1: 4}\n",
      "majority= -1\n",
      "guess # 1 was 1.0 | Truth is= -1\n",
      "confusion matrix= \n",
      "[[0. 1.]\n",
      " [0. 1.]]\n",
      "score=  0.5\n"
     ]
    },
    {
     "name": "stderr",
     "output_type": "stream",
     "text": [
      "\n",
      "----------------------------------------------------------------------\n",
      "Ran 2 tests in 0.008s\n",
      "\n",
      "OK\n"
     ]
    },
    {
     "data": {
      "text/plain": [
       "<unittest.runner.TextTestResult run=2 errors=0 failures=0>"
      ]
     },
     "execution_count": 4,
     "metadata": {},
     "output_type": "execute_result"
    }
   ],
   "source": [
    "import unittest\n",
    "\n",
    "class KNNTester(unittest.TestCase):\n",
    "    def setUp(self):\n",
    "        self.x = np.array([[3,1],[2,8], [2,7], [5,2],[3,2],[8,2],[2,4]])\n",
    "        self.y = np.array([1, -1, -1, 1, -1, 1, -1])\n",
    "        #self.y = np.array([1, -1, -1, 2, -1, 2, -1])\n",
    "        self.knnfive = KNNClassifier(self.x, self.y)\n",
    "        self.knnthree = KNNClassifier(self.x, self.y, 3)\n",
    "        self.knnone = KNNClassifier(self.x, self.y, 1)\n",
    "        \n",
    "        #test case that uses last two items of each array as the test case\n",
    "        self.knnconfusion = KNNClassifier(self.x[0:4], self.y[0:4], 3)\n",
    "        \n",
    "        self.testPoints = np.array([[2,1], [2,6], [4, 4]])\n",
    "        \n",
    "    def testCounter(self):\n",
    "        \"\"\"\n",
    "        Test getCounts function from knnclassifier\n",
    "        \"\"\"\n",
    "        print(\"counts=\", self.knnfive.getCounts())\n",
    "        print(\"majority=\", self.knnfive.majority([3,1]))\n",
    "        self.assertEqual(self.knnfive._counts[1], 3)\n",
    "        self.assertEqual(self.knnfive._counts[-1], 4)\n",
    "        \n",
    "  \n",
    "    def testKNNOne(self):\n",
    "        #print(self.testPoints[0].size)\n",
    "        #Test if the classifier returns \"correct\" (expected) classifications for k = 1\n",
    "        #print(\"test point=\",self.testPoints[:1])\n",
    "        #print((self.testPoints[0]).size)\n",
    "        #self.assertEqual(self.knnone.classify(self.testPoints[:1]), 1)\n",
    "        \n",
    "    \n",
    "        CC= self.knnconfusion.confusionMatrix(self.x[5:7], self.y[5:7],False,True)\n",
    "        self.knnconfusion.accuracy(CC,True)\n",
    "        \n",
    "        #BEGIN Workspace\n",
    "        #Add more tests as desired\n",
    "        #END Workspace\n",
    "    \n",
    "    #BEGIN Workspace\n",
    "    #Add more test functions as desired\n",
    "    #HINT - You'll want to make sure each of your functions from the\n",
    "    #KNNClassifier class you created work correctly...\n",
    "    #END Workspace\n",
    "    \n",
    "tests = KNNTester()\n",
    "myTests = unittest.TestLoader().loadTestsFromModule(tests)\n",
    "unittest.TextTestRunner().run(myTests)\n"
   ]
  },
  {
   "cell_type": "markdown",
   "metadata": {},
   "source": [
    "OK - now we've demonstrated that our KNN classifier works, let's think about our problem space! \n",
    "\n",
    "## Our Dataset - Identifying Digits from Images\n",
    "\n",
    "It's a pretty common problem - just imagine working at the post office, or at a bank, and you're handed a hand-written envelope, or check, or other piece of information and you have to identify exactly what it says. Did they pay 500 or 600 dollars? Is the letter going to 80309 (campus) or 30309 (Atlanta)?\n",
    "\n",
    "Let's be a little smart about this - let's up some classes and helper functions to help us out.\n",
    "\n",
    "### Problem 2: Implement KNN on Digits dataset - 30 Points\n",
    "\n",
    "2.1 Randomly divide our Digits dataset into training and testing sets (15 Points)\n",
    "\n",
    "2.2 Report the number of examples in training and testing, as well as measuring then number of pixels in each image (5 points)\n",
    "\n",
    "2.3 Create a confusion matrix of our classifier for K = 5 (10 points) *HINT: Doing this may cause you to catch mistakes in your classifier. Go fix those!*"
   ]
  },
  {
   "cell_type": "code",
   "execution_count": 5,
   "metadata": {},
   "outputs": [
    {
     "name": "stdout",
     "output_type": "stream",
     "text": [
      "dataset shape=  (1797, 64)\n",
      "train_x shape=  (1437, 64)\n",
      "train_y shape=  (1437,)\n",
      "test_x shape=  (360, 64)\n",
      "test_y shape=  (360,)\n",
      "Image size = (8, 8)\n",
      "[[ 0.  0.  4. 13.  8.  0.  0.  0.]\n",
      " [ 0.  0. 13. 16. 15.  7.  0.  0.]\n",
      " [ 0.  3. 16.  9.  6. 15.  6.  0.]\n",
      " [ 0.  8. 14.  0.  0.  4.  8.  0.]\n",
      " [ 0.  8. 12.  0.  0.  4.  8.  0.]\n",
      " [ 0.  4. 12.  0.  0. 11.  6.  0.]\n",
      " [ 0.  0. 14. 10. 12. 14.  1.  0.]\n",
      " [ 0.  0.  7. 15. 11.  2.  0.  0.]]\n"
     ]
    },
    {
     "data": {
      "text/plain": [
       "<Figure size 432x288 with 0 Axes>"
      ]
     },
     "metadata": {},
     "output_type": "display_data"
    },
    {
     "data": {
      "image/png": "[encoded data removed]",
      "text/plain": [
       "<Figure size 288x288 with 1 Axes>"
      ]
     },
     "metadata": {
      "needs_background": "light"
     },
     "output_type": "display_data"
    },
    {
     "name": "stdout",
     "output_type": "stream",
     "text": [
      "guess # 39 was 5.0 | Truth is= 9\n",
      "guess # 131 was 3.0 | Truth is= 9\n",
      "guess # 200 was 5.0 | Truth is= 1\n",
      "guess # 221 was 7.0 | Truth is= 4\n",
      "guess # 300 was 1.0 | Truth is= 8\n",
      "confusion matrix= \n",
      "[[38.  0.  0.  0.  0.  0.  0.  0.  0.  0.]\n",
      " [ 0. 39.  0.  0.  0.  1.  0.  0.  0.  0.]\n",
      " [ 0.  0. 36.  0.  0.  0.  0.  0.  0.  0.]\n",
      " [ 0.  0.  0. 34.  0.  0.  0.  0.  0.  0.]\n",
      " [ 0.  0.  0.  0. 33.  0.  0.  1.  0.  0.]\n",
      " [ 0.  0.  0.  0.  0. 34.  0.  0.  0.  0.]\n",
      " [ 0.  0.  0.  0.  0.  0. 36.  0.  0.  0.]\n",
      " [ 0.  0.  0.  0.  0.  0.  0. 36.  0.  0.]\n",
      " [ 0.  1.  0.  0.  0.  0.  0.  0. 35.  0.]\n",
      " [ 0.  0.  0.  1.  0.  1.  0.  0.  0. 34.]]\n",
      "score=  0.9861111111111112\n"
     ]
    }
   ],
   "source": [
    "\n",
    "class Numbers:\n",
    "    def __init__(self):\n",
    "        #load data from sklearn\n",
    "        digits = sklearn.datasets.load_digits()\n",
    "        from sklearn import svm, metrics\n",
    "        from sklearn.model_selection import train_test_split\n",
    "        import matplotlib.pyplot as plt\n",
    "        \n",
    "        #BEGIN Workspace 2.1\n",
    "        #TODO: Divide our dataset into Train and Test datasets (80/20 split), replacing the variables above\n",
    "       \n",
    "        \n",
    "        #reference: https://scikit-learn.org/stable/auto_examples/classification/plot_digits_classification.html\n",
    "        # The data that we are interested in is made of 8x8 images of digits, let's\n",
    "        # have a look at the first 4 images, stored in the `images` attribute of the\n",
    "        # dataset.  If we were working from image files, we could load them using\n",
    "        # matplotlib.pyplot.imread.  Note that each image must have the same size. For these\n",
    "        # images, we know which digit they represent: it is given in the 'target' of\n",
    "        # the dataset.\n",
    "        \n",
    "            \n",
    "        # To apply a classifier on this data, we need to flatten the image, to\n",
    "        # turn the data in a (samples, feature) matrix:\n",
    "        n_samples = len(digits.images)\n",
    "        data = digits.images.reshape((n_samples, -1))\n",
    "        #reshape images into a 1x64 array\n",
    "        \n",
    "        #data64 = digits.images.reshape(64)\n",
    "        \n",
    "        \n",
    "        self.train_x,self.test_x,self.train_y,self.test_y= train_test_split(\n",
    "            data, digits.target, test_size=0.2, shuffle=True)\n",
    "        \n",
    "      \n",
    "       \n",
    "        \n",
    "        print(\"dataset shape= \",data.shape)\n",
    "        \n",
    "        \n",
    "        #print(self.train_x[0])\n",
    "        #END Workspace 2.1\n",
    "    def report(self,digits):\n",
    "        \"\"\"\n",
    "        Report information about the dataset using the print() function\n",
    "        \"\"\"\n",
    "        #BEGIN Workspace 2.2\n",
    "        #TODO: Create printouts for reporting the size of each set and the size of each datapoint\n",
    "        print(\"train_x shape= \",self.train_x.shape)\n",
    "        print(\"train_y shape= \",self.train_y.shape)\n",
    "        print(\"test_x shape= \",self.test_x.shape)\n",
    "        #print(self.test_x)\n",
    "        print(\"test_y shape= \",self.test_y.shape)\n",
    "        \n",
    "        print(\"Image size =\",digits.images[0].shape)\n",
    "        #print(digits.images[0])\n",
    "        \n",
    "        #print(\"Reshaped\")\n",
    "        #print(np.reshape(digits.images[0],(64)))\n",
    "        #print(self.train_y[0])\n",
    "        # \n",
    "        #self.train_y \n",
    "        \n",
    "        #self.test_x\n",
    "        #self.test_y\n",
    "        \n",
    "        #END Workspace 2.2\n",
    "        \n",
    "\n",
    "    def classify(self):\n",
    "        \"\"\"\n",
    "        Create a classifier using the training data and generate a \n",
    "        confusion matrix for the test data\n",
    "        \"\"\"\n",
    "        #BEGIN Workspace 2.3\n",
    "        #TODO: Create classifier from training data, generate confusion\n",
    "        #matrix for test data\n",
    "        self.knnconfusion2 = KNNClassifier(self.train_x, self.train_y, 5)\n",
    "        DC= self.knnconfusion2.confusionMatrix(self.test_x, self.test_y,False,True)\n",
    "        self.knnconfusion2.accuracy(DC,True)\n",
    "        \n",
    "        #print(\"test 1 classified as\",self.knnconfusion2.classify(self.test_x[2:3])) \n",
    "        \n",
    "        \n",
    "        #END Workspace 2.3\n",
    "        \n",
    "    def viewDigit(self, digitImage):\n",
    "        \"\"\"\n",
    "        Display an image of a digit\n",
    "        PARAMETERS\n",
    "        digitImage - a data object from the dataset\n",
    "        \"\"\"\n",
    "        plt.gray()\n",
    "        plt.matshow(digitImage)\n",
    "        plt.show()\n",
    "        \n",
    "\n",
    "digits = sklearn.datasets.load_digits()\n",
    "tests2 = Numbers()\n",
    "tests2.report(digits)\n",
    "#print(type(digits.images[266]))\n",
    "print(digits.images[266])\n",
    "tests2.viewDigit(digits.images[266])\n",
    "tests2.classify()\n",
    "\n",
    "#myTests = unittest.TestLoader().loadTestsFromModule(tests)\n",
    "#unittest.TextTestRunner().run(myTests)        \n",
    "        "
   ]
  },
  {
   "cell_type": "markdown",
   "metadata": {},
   "source": [
    "*Wow, I can't believe we just created a KNN Classifier - but can't we make it better?*\n",
    "\n",
    "Yes, we saw above that our classifier didn't work perfectly. Let's explore that issue a little further\n",
    "\n",
    "### Problem 3: Improving KNN on Digits - 30 Points\n",
    "\n",
    "3.1 Determine which classes are most often confused (from our confusion matrix above), inspect some examples of these digits (using the viewDigit function in our Numbers class), and write a brief (4 - 5 sentences) description of why you think these particular numbers may be misclassified.\n",
    "\n",
    "3.2 Explore the influence of the number of nearest neighbors (i.e. try changing our K). Plot the relationship between K and accuracy, and write a brief (4 - 5 sentences) description of how this factor impacts our accuracy.\n",
    "\n",
    "3.3 (Bonus) Explore the influence of the train / test split of our data (i.e. copy our Numbers class into Numbers2 below and try changing the split for our dataset). Plot the relationship between the split % and accuracy, and write a brief (4 - 5 sentences) description of its impact."
   ]
  },
  {
   "cell_type": "code",
   "execution_count": 7,
   "metadata": {},
   "outputs": [
    {
     "name": "stdout",
     "output_type": "stream",
     "text": [
      "dataset shape=  (1797, 64)\n",
      "guess # 16 was 1.0 | Truth is= 8\n"
     ]
    },
    {
     "data": {
      "text/plain": [
       "<Figure size 432x288 with 0 Axes>"
      ]
     },
     "metadata": {},
     "output_type": "display_data"
    },
    {
     "data": {
      "image/png": "[encoded data removed]",
      "text/plain": [
       "<Figure size 288x288 with 1 Axes>"
      ]
     },
     "metadata": {
      "needs_background": "light"
     },
     "output_type": "display_data"
    },
    {
     "name": "stdout",
     "output_type": "stream",
     "text": [
      "guess # 20 was 1.0 | Truth is= 8\n"
     ]
    },
    {
     "data": {
      "text/plain": [
       "<Figure size 432x288 with 0 Axes>"
      ]
     },
     "metadata": {},
     "output_type": "display_data"
    },
    {
     "data": {
      "image/png": "[encoded data removed]",
      "text/plain": [
       "<Figure size 288x288 with 1 Axes>"
      ]
     },
     "metadata": {
      "needs_background": "light"
     },
     "output_type": "display_data"
    },
    {
     "name": "stdout",
     "output_type": "stream",
     "text": [
      "guess # 101 was 5.0 | Truth is= 9\n"
     ]
    },
    {
     "data": {
      "text/plain": [
       "<Figure size 432x288 with 0 Axes>"
      ]
     },
     "metadata": {},
     "output_type": "display_data"
    },
    {
     "data": {
      "image/png": "[encoded data removed]",
      "text/plain": [
       "<Figure size 288x288 with 1 Axes>"
      ]
     },
     "metadata": {
      "needs_background": "light"
     },
     "output_type": "display_data"
    },
    {
     "name": "stdout",
     "output_type": "stream",
     "text": [
      "guess # 150 was 8.0 | Truth is= 4\n"
     ]
    },
    {
     "data": {
      "text/plain": [
       "<Figure size 432x288 with 0 Axes>"
      ]
     },
     "metadata": {},
     "output_type": "display_data"
    },
    {
     "data": {
      "image/png": "[encoded data removed]",
      "text/plain": [
       "<Figure size 288x288 with 1 Axes>"
      ]
     },
     "metadata": {
      "needs_background": "light"
     },
     "output_type": "display_data"
    },
    {
     "name": "stdout",
     "output_type": "stream",
     "text": [
      "guess # 173 was 8.0 | Truth is= 9\n"
     ]
    },
    {
     "data": {
      "text/plain": [
       "<Figure size 432x288 with 0 Axes>"
      ]
     },
     "metadata": {},
     "output_type": "display_data"
    },
    {
     "data": {
      "image/png": "[encoded data removed]",
      "text/plain": [
       "<Figure size 288x288 with 1 Axes>"
      ]
     },
     "metadata": {
      "needs_background": "light"
     },
     "output_type": "display_data"
    },
    {
     "name": "stdout",
     "output_type": "stream",
     "text": [
      "guess # 175 was 7.0 | Truth is= 2\n"
     ]
    },
    {
     "data": {
      "text/plain": [
       "<Figure size 432x288 with 0 Axes>"
      ]
     },
     "metadata": {},
     "output_type": "display_data"
    },
    {
     "data": {
      "image/png": "[encoded data removed]",
      "text/plain": [
       "<Figure size 288x288 with 1 Axes>"
      ]
     },
     "metadata": {
      "needs_background": "light"
     },
     "output_type": "display_data"
    },
    {
     "name": "stdout",
     "output_type": "stream",
     "text": [
      "guess # 285 was 8.0 | Truth is= 4\n"
     ]
    },
    {
     "data": {
      "text/plain": [
       "<Figure size 432x288 with 0 Axes>"
      ]
     },
     "metadata": {},
     "output_type": "display_data"
    },
    {
     "data": {
      "image/png": "[encoded data removed]",
      "text/plain": [
       "<Figure size 288x288 with 1 Axes>"
      ]
     },
     "metadata": {
      "needs_background": "light"
     },
     "output_type": "display_data"
    },
    {
     "name": "stdout",
     "output_type": "stream",
     "text": [
      "guess # 290 was 9.0 | Truth is= 3\n"
     ]
    },
    {
     "data": {
      "text/plain": [
       "<Figure size 432x288 with 0 Axes>"
      ]
     },
     "metadata": {},
     "output_type": "display_data"
    },
    {
     "data": {
      "image/png": "[encoded data removed]",
      "text/plain": [
       "<Figure size 288x288 with 1 Axes>"
      ]
     },
     "metadata": {
      "needs_background": "light"
     },
     "output_type": "display_data"
    },
    {
     "name": "stdout",
     "output_type": "stream",
     "text": [
      "guess # 326 was 8.0 | Truth is= 6\n"
     ]
    },
    {
     "data": {
      "text/plain": [
       "<Figure size 432x288 with 0 Axes>"
      ]
     },
     "metadata": {},
     "output_type": "display_data"
    },
    {
     "data": {
      "image/png": "[encoded data removed]",
      "text/plain": [
       "<Figure size 288x288 with 1 Axes>"
      ]
     },
     "metadata": {
      "needs_background": "light"
     },
     "output_type": "display_data"
    },
    {
     "name": "stdout",
     "output_type": "stream",
     "text": [
      "confusion matrix= \n",
      "[[29.  0.  0.  0.  0.  0.  0.  0.  0.  0.]\n",
      " [ 0. 31.  0.  0.  0.  0.  0.  0.  0.  0.]\n",
      " [ 0.  0. 41.  0.  0.  0.  0.  1.  0.  0.]\n",
      " [ 0.  0.  0. 37.  0.  0.  0.  0.  0.  1.]\n",
      " [ 0.  0.  0.  0. 32.  0.  0.  0.  2.  0.]\n",
      " [ 0.  0.  0.  0.  0. 29.  0.  0.  0.  0.]\n",
      " [ 0.  0.  0.  0.  0.  0. 35.  0.  1.  0.]\n",
      " [ 0.  0.  0.  0.  0.  0.  0. 44.  0.  0.]\n",
      " [ 0.  2.  0.  0.  0.  0.  0.  0. 33.  0.]\n",
      " [ 0.  0.  0.  0.  0.  1.  0.  0.  1. 40.]]\n",
      "score=  0.975\n"
     ]
    },
    {
     "data": {
      "text/plain": [
       "0.975"
      ]
     },
     "execution_count": 7,
     "metadata": {},
     "output_type": "execute_result"
    }
   ],
   "source": [
    "#BEGIN 3.1a\n",
    "#TODO: Print out problem class images\n",
    "\n",
    "tests3 = Numbers()\n",
    "\n",
    "tests3.knnconfusion2 = KNNClassifier(tests3.train_x, tests3.train_y, 5)\n",
    "DC= tests3.knnconfusion2.confusionMatrix(tests3.test_x, tests3.test_y,True,True)\n",
    "tests3.knnconfusion2.accuracy(DC,True)\n",
    "\n",
    "\n",
    "#END 3.1a"
   ]
  },
  {
   "cell_type": "markdown",
   "metadata": {},
   "source": [
    "#### 3.1b\n",
    "TODO: Write description of misclassification\n",
    "\n",
    "    While my classifier performed very well, with accuracies always above 0.97, there were always a number of incorrectly classified images. The missclassifications seem to be very reasonable, as the written characters usually seem to visually resemble the incorrect guesses. Examples being a 9 that was guessed as a 1, 7 and a 3 in different cases, as the written character had no dicernable loop at the top.A 7 was guesed as a 2, as they share much of the same features.\n"
   ]
  },
  {
   "cell_type": "code",
   "execution_count": 8,
   "metadata": {},
   "outputs": [
    {
     "name": "stdout",
     "output_type": "stream",
     "text": [
      "WARNING! Processes may take a minute or two to run. Two plots will be displayed\n"
     ]
    },
    {
     "data": {
      "image/png": "[encoded data removed]",
      "text/plain": [
       "<Figure size 432x288 with 1 Axes>"
      ]
     },
     "metadata": {
      "needs_background": "light"
     },
     "output_type": "display_data"
    },
    {
     "name": "stdout",
     "output_type": "stream",
     "text": [
      "[0.9888888888888889, 0.9722222222222222, 0.9962962962962963, 0.9916666666666667, 0.98, 0.9907407407407407, 0.9697933227344993, 0.9791376912378303, 0.9864029666254636, 0.9799777530589544, 0.974721941354904, 0.9721964782205746, 0.9734816082121471, 0.9618441971383148, 0.9681008902077152, 0.9492350486787204, 0.9587696335078534, 0.8967861557478368, 0.8372365339578455]\n"
     ]
    },
    {
     "data": {
      "image/png": "[encoded data removed]",
      "text/plain": [
       "<Figure size 432x288 with 1 Axes>"
      ]
     },
     "metadata": {
      "needs_background": "light"
     },
     "output_type": "display_data"
    }
   ],
   "source": [
    "class Numbers2:\n",
    "    def __init__(self, trainPercentage, ktestTF):\n",
    "        #load data from sklearn\n",
    "        digits = sklearn.datasets.load_digits()\n",
    "        from sklearn import svm, metrics\n",
    "        from sklearn.model_selection import train_test_split\n",
    "        import matplotlib.pyplot as plt\n",
    "        \n",
    "        #BEGIN Workspace 3.3a\n",
    "   \n",
    "        #TODO: Divide our dataset into Train and Test datasets (using trainPercentage), replacing the variables above\n",
    "        #HINT: You should be able to mostly copy your own work from the original Numbers class\n",
    "        n_samples = len(digits.images)\n",
    "        data = digits.images.reshape((n_samples, -1))\n",
    "\n",
    "        \n",
    "        self.train_x,self.test_x,self.train_y,self.test_y= train_test_split(\n",
    "            data, digits.target, test_size=trainPercentage, shuffle=True)\n",
    "        \n",
    "        if ktestTF==True:\n",
    "            acculist=[]\n",
    "            for i in range(1,30):\n",
    "                acculist.append(self.classify(i))\n",
    "        \n",
    "            #print(acculist)\n",
    "        \n",
    "            plt.plot(range(1,30),acculist)\n",
    "            plt.ylabel('Accuracy')\n",
    "            plt.xlabel('K nearest neighbors')\n",
    "            plt.suptitle('Relationship between K and Classifier Accuracy')\n",
    "            plt.show()\n",
    "        #END Workspace 3.3a\n",
    "\n",
    "    def classify(self, k):\n",
    "        \"\"\"\n",
    "        Create a classifier using the training data and generate a confusion matrix for the test data\n",
    "        \"\"\"\n",
    "        #BEGIN Workspace 3.2a\n",
    "        #TODO: Create classifier from training data (using k nearest neighbors), generate confusion matrix for test data\n",
    "        #HINT: You can copy your own work from the original Numbers class\n",
    "        self.knnconfusion3 = KNNClassifier(self.train_x, self.train_y, k)\n",
    "        DC= self.knnconfusion3.confusionMatrix(self.test_x, self.test_y,False,False)\n",
    "        acc= self.knnconfusion3.accuracy(DC,False)\n",
    "        \n",
    "        return acc\n",
    "        \n",
    "        #END Workspace 3.2a\n",
    "        \n",
    "    def viewDigit(digitImage):\n",
    "        \"\"\"\n",
    "        Display an image of a digit\n",
    "        PARAMETERS\n",
    "        digitImage - a data object from the dataset\n",
    "        \"\"\"\n",
    "        plt.gray()\n",
    "        plt.matshow(digitImage)\n",
    "        plt.show()\n",
    "        \n",
    "\n",
    "print(\"WARNING! Processes may take a minute or two to run. Two plots will be displayed\") \n",
    "#Test accuracy vs range of K values from 1 to 30\n",
    "g1=Numbers2(.2,True)\n",
    "\n",
    "#Test accuracy vs size of test set from 0.05 to 0.5, with a k=5\n",
    "\n",
    "acculistB=[]\n",
    "ylist=[]\n",
    "for i in range(1,20):\n",
    "    acculistB.append(Numbers2((i*0.05),False).classify(5))\n",
    "    ylist.append(i*0.05*100)\n",
    "        \n",
    "print(acculistB)      \n",
    "plt.plot(ylist,acculistB)\n",
    "plt.ylabel('Accuracy')\n",
    "plt.xlabel('Percent of Data set used as Test Set')\n",
    "plt.suptitle('Relationship between K and Percent of Data Set used as Test Set')\n",
    "plt.show()\n"
   ]
  },
  {
   "cell_type": "markdown",
   "metadata": {},
   "source": [
    "#### 3.2b\n",
    "TODO: Write description of influence of neighbor count\n",
    "\n",
    "After multiple runs of the categiorizer, it appears increasing the neighbor count consistently results in a decreasing accuracy. However,as the neighbor count increases, the plot occasionally shows that the accuracy has a high plateau around k=7, before decreasing. In one of my sets, the accuracy was around 0.99 to 0.98 when the k neighbor count was less than 5, and then when k=30, the accuracy dropped to around 0.95 \n",
    "\n",
    "#### 3.3b\n",
    "TODO: Write description of influence of training / testing split\n",
    "\n",
    "There is a very consistent, notable trend from increasing the percent of data being used for the test set. By that increasing the percent of the data set used as the test set, the overall accuracy slowly decreases until around 75%. At 75%, the accuracy sharply decreases, nearly exponentally. In my tests, I used k=5. \n"
   ]
  },
  {
   "cell_type": "code",
   "execution_count": null,
   "metadata": {},
   "outputs": [],
   "source": []
  }
 ],
 "metadata": {
  "kernelspec": {
   "display_name": "Python 3",
   "language": "python",
   "name": "python3"
  },
  "language_info": {
   "codemirror_mode": {
    "name": "ipython",
    "version": 3
   },
   "file_extension": ".py",
   "mimetype": "text/x-python",
   "name": "python",
   "nbconvert_exporter": "python",
   "pygments_lexer": "ipython3",
   "version": "3.6.9"
  }
 },
 "nbformat": 4,
 "nbformat_minor": 2
}
