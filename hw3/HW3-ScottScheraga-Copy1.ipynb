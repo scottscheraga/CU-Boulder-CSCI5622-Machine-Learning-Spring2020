{
 "cells": [
  {
   "cell_type": "markdown",
   "metadata": {},
   "source": [
    "# Homework 3 - SVM and Regularization\n",
    "## CSCI 5622 - Spring 2019\n",
    "***\n",
    "**Name**: Scott Scheraga\n",
    "***\n",
    "\n",
    "This assignment is due on Canvas by **11.59 PM on Wednesday, March 18**. Submit only this Jupyter notebook to Canvas.  Do not compress it using tar, rar, zip, etc. Your solutions to analysis questions should be done in Markdown directly below the associated question.  Remember that you are encouraged to discuss the problems with your classmates and instructors, but **you must write all code and solutions on your own**, and list any people or sources consulted.\n",
    "\n",
    "Portions of this assignment, including the plotting functions used, are implemented from Andrew Ng's Machine Learning course."
   ]
  },
  {
   "cell_type": "markdown",
   "metadata": {},
   "source": [
    "## Part 1: Lasso and Ridge regression - 40 points"
   ]
  },
  {
   "cell_type": "markdown",
   "metadata": {},
   "source": [
    "We have seen that the difference between LASSO and Ridge regression is due to their different regularization model (L1 norm vs. L2 norm). The regularization term in LASSO is $\\lambda||\\mathbf w||_1$, while the regularization term in ridge regression is  $(\\lambda/2) ||\\mathbf w||^2$ (where $\\mathbf w$ denotes the set of parameters for the linear regression model and $\\lambda$ is the trade-off regularization parameter). LASSO typically enforces more _sparsity_ on the resulting $\\mathbf w$. That is, the resulting classifier will have a small number of non-zero weights. In this exercise, you'll explore differences in performance between LASSO and Ridge regression algorithms across a few different data sets.\n",
    "\n",
    "You will be using the following data sets:"
   ]
  },
  {
   "cell_type": "code",
   "execution_count": 163,
   "metadata": {
    "ExecuteTime": {
     "end_time": "2018-10-30T23:46:14.931653Z",
     "start_time": "2018-10-30T23:46:14.919868Z"
    }
   },
   "outputs": [],
   "source": [
    "import numpy as np\n",
    "import matplotlib.pyplot as plt\n",
    "import pandas as pd\n",
    "%matplotlib inline\n",
    "class DataA:\n",
    "    def __init__(self):\n",
    "        f = lambda x, y : np.random.randn(x, y)\n",
    "        self.train_x = f(1000, 20)\n",
    "        self.train_y = f(1000, 1)[:,0]\n",
    "        self.test_x = f(500, 20)\n",
    "        self.test_y = f(500, 1)[:,0]\n",
    "        \n",
    "class DataB:\n",
    "    def __init__(self):\n",
    "        # Data from: https://archive.ics.uci.edu/ml/datasets/Cloud\n",
    "        data = np.fromfile(\"data/cloud.data\", sep = \" \").reshape((1024, 10))\n",
    "        y = data[:, 6]\n",
    "        X = np.delete(data, 6, axis = 1)\n",
    "        \n",
    "        self.train_x = X[:800]\n",
    "        self.train_y = y[:800]\n",
    "        \n",
    "        self.test_x = X[800:]\n",
    "        self.test_y = y[800:]\n",
    "        \n",
    "class DataC:\n",
    "    def __init__(self):\n",
    "        # Data from: http://archive.ics.uci.edu/ml/datasets/Forest+Fires\n",
    "        data = pd.read_csv(\"data/forestfires.csv\")\n",
    "        data = data.sample(frac = 1).reset_index(drop = True).drop(columns = [\"month\", \"day\"])\n",
    "        data[\"area\"] = np.log(data[\"area\"] + 1)\n",
    "        X = data.drop(columns = \"area\").values\n",
    "        y = data[\"area\"].values\n",
    "        \n",
    "        self.train_x = X[:400]\n",
    "        self.train_y = y[:400]\n",
    "        \n",
    "        self.test_x = X[400:]\n",
    "        self.test_y = y[400:]"
   ]
  },
  {
   "cell_type": "code",
   "execution_count": 164,
   "metadata": {},
   "outputs": [],
   "source": [
    "data_a = DataA()\n",
    "data_b = DataB()\n",
    "data_c = DataC()"
   ]
  },
  {
   "cell_type": "markdown",
   "metadata": {},
   "source": [
    "1. [15 Pts] Fit a regressor to the data set using sklearn's `Lasso` module (for more details, read [here](http://scikit-learn.org/stable/modules/generated/sklearn.linear_model.Lasso.html)):\n",
    "    1. Train a LASSO model for each of the 3 data sets(A, B and C) using 5 different values for the regularization parameter $\\lambda$. Use $\\lambda = 0.01, 0.05, 0.1, 0.2, 0.3$. Report and plot the number of non-zero coefficients.\n",
    "    2. Report the value of $\\lambda$ that yields the minimum number of non-zero coefficients in the resulting $\\mathbf w$ in case of each dataset, and report the number of non-zero coefficients in that case. Keep track of this $\\mathbf w$, we will refer to it as $\\mathbf w_b$. [This step is only needed if any $\\mathbf{w}$ has coefficients that are 0.]\n",
    "    3. For each of the classifiers learned in part (A), compute their test error as mean-squared-error. Plot the test error as function of $\\lambda$ for all three datasets in the same graph.\n",
    "    4. Report the value of $\\lambda$ that yields the $\\mathbf w$ with the minimum test error in case of each dataset. Save this $\\mathbf w$ as $\\mathbf w_d$. How many non-zero coordinates does $\\mathbf w_d$ have? Keep track of this, as well as the answers for $\\mathbf w_b$ for the comparison to Ridge Regression below. It might be helpful to make a table, i.e. the number of non-zero coordinates and the test error for $\\mathbf w_b$ and $\\mathbf w_d$ for each data set.\n",
    "    5. For data set A, by increasing the value of $\\lambda$, can you get most of the entries to be 0? Can you get every entry to be 0? (more that 50 percent. Entires= Weight coefficients\n",
    "    \n",
    "Note: $\\lambda$ is same as $\\alpha$ in the sklearn module."
   ]
  },
  {
   "cell_type": "code",
   "execution_count": 165,
   "metadata": {},
   "outputs": [
    {
     "name": "stdout",
     "output_type": "stream",
     "text": [
      "------------------- PART (A)---------------------------\n",
      "[16, 4, 0, 0, 0]\n",
      "[9, 7, 7, 7, 6]\n",
      "[10, 9, 7, 4, 4]\n"
     ]
    },
    {
     "data": {
      "image/png": "[encoded data removed]",
      "text/plain": [
       "<Figure size 432x288 with 1 Axes>"
      ]
     },
     "metadata": {
      "needs_background": "light"
     },
     "output_type": "display_data"
    },
    {
     "name": "stdout",
     "output_type": "stream",
     "text": [
      "------------------- PART (B)---------------------------\n",
      "𝜆 that yields the minimum number of non-zero coefficients, w_b's:\n",
      "Data A:  0.1\n",
      "Data B:  0.3\n",
      "Data C:  0.2\n",
      "Quantity of non-zero coefficients for those cases:\n",
      "Data A: 0\n",
      "Data B: 6\n",
      "Data C: 4\n",
      "------------------- PART (C)---------------------------\n",
      "[0.9669428987430119, 0.9382220492141468, 0.9383769914330924, 0.9383769914330924, 0.9383769914330924]\n",
      "[0.018247756874594772, 0.05914657756834905, 0.08137414855313153, 0.1416183547772921, 0.185557166995104]\n",
      "[1.8873233838343155, 1.8757979319577198, 1.868383313882819, 1.8701642761804542, 1.8599121741570128]\n"
     ]
    },
    {
     "data": {
      "image/png": "[encoded data removed]",
      "text/plain": [
       "<Figure size 432x288 with 1 Axes>"
      ]
     },
     "metadata": {
      "needs_background": "light"
     },
     "output_type": "display_data"
    },
    {
     "name": "stdout",
     "output_type": "stream",
     "text": [
      "------------------- PART (D)---------------------------\n",
      "𝜆 that yields the minimum test error, w_d's:\n",
      "Data A:  0.01\n",
      "Data B:  0.01\n",
      "Data C:  0.01\n",
      "Quantity of non-zero coefficients for those cases:\n",
      "Data A: 16\n",
      "Data B: 9\n",
      "Data C: 10\n",
      "------------------- PART (E)---------------------------\n"
     ]
    },
    {
     "data": {
      "image/png": "[encoded data removed]",
      "text/plain": [
       "<Figure size 432x288 with 1 Axes>"
      ]
     },
     "metadata": {
      "needs_background": "light"
     },
     "output_type": "display_data"
    },
    {
     "name": "stdout",
     "output_type": "stream",
     "text": [
      "After Lambda=0.1, all of the coefficients become Zero. The coefficients stay zero as Lambda increases further \n"
     ]
    }
   ],
   "source": [
    "from sklearn import linear_model\n",
    "from sklearn.metrics import mean_squared_error\n",
    "from sklearn.metrics import accuracy_score\n",
    "from matplotlib.pylab import plt\n",
    "import math\n",
    "\n",
    "class Lasso:\n",
    "    def __init__(self, gamma, data):\n",
    "        self.gamma = gamma\n",
    "        self.data = data\n",
    "        \n",
    "        self.fit()    \n",
    "        \n",
    "    def fit(self,zeroesTF=False):\n",
    "        '''\n",
    "        Here you must fit a Lasso model, train it using the data you have in self.data, \n",
    "        specifically the training part, for the specified value of gamma in self.gamma. \n",
    "        Calculate the number of non-zero coefficients in the model weights. Then,\n",
    "        test the trained model on the testing part of the data in self.data and calculate the\n",
    "        Root mean square error between the predicted values and the actual values of target variable.\n",
    "        \n",
    "        RETURN : \n",
    "            num_nonzero_coeff : number of non-zero coefficients in the model weights\n",
    "            mean_squared_err : Root mean square error between the predicted values and the \n",
    "            actual values of target variable\n",
    "        '''     \n",
    "        Lmodel = linear_model.Lasso(self.gamma)\n",
    "        Lmodel.fit(self.data.train_x,self.data.train_y)\n",
    "        \n",
    "        #rint(Lmodel.coef_)\n",
    "       #print(\"nonzero weights count= \", np.count_nonzero(Lmodel.coef_))\n",
    "        num_nonzero_coeff=np.count_nonzero(Lmodel.coef_)\n",
    "        num_zero_coeff=np.size(Lmodel.coef_)-num_nonzero_coeff\n",
    "        \n",
    "        #Lmodel.predict(self.data.test_x)\n",
    "        #print(Lmodel.predict(self.data.test_x))\n",
    "        \n",
    "        #From https://www.includehelp.com/ml-ai/root-mean-square%20error-rmse.aspx\n",
    "        mean_squared_err=mean_squared_error(self.data.test_y, Lmodel.predict(self.data.test_x))\n",
    "        #mean_squared_err=np.sqrt(np.mean((self.data.test_y-Lmodel.predict(self.data.test_x))**2))\n",
    "        \n",
    "        #print(\"mse=\", mean_squared_err)\n",
    "        \n",
    "        #print(Lmodel.intercept_)\n",
    "        #,mean_squared_err;\n",
    "        if zeroesTF==False:\n",
    "            return num_nonzero_coeff,mean_squared_err\n",
    "        else:\n",
    "            return num_nonzero_coeff,mean_squared_err,num_zero_coeff\n",
    "data_sets = {'A': data_a, 'B': data_b, 'C': data_c}\n",
    "alphas = [0.01, 0.05, 0.1, 0.2, 0.3]\n",
    "\n",
    "print('------------------- PART (A)---------------------------')\n",
    "\n",
    "nzcA=[]\n",
    "nzcB=[]\n",
    "nzcC=[]\n",
    "\n",
    "for i in range(0,np.size(alphas)):\n",
    "    a1= Lasso(alphas[i],data_a)\n",
    "    a,j= a1.fit()\n",
    "    nzcA.append(a)\n",
    "for i in range(0,np.size(alphas)):\n",
    "    a2= Lasso(alphas[i],data_b)\n",
    "    a,j= a2.fit()\n",
    "    nzcB.append(a)\n",
    "for i in range(0,np.size(alphas)):\n",
    "    a3= Lasso(alphas[i],data_c)\n",
    "    a,j= a3.fit()\n",
    "    nzcC.append(a)\n",
    "\n",
    "print(nzcA)\n",
    "print(nzcB)\n",
    "print(nzcC)\n",
    "\n",
    "plt.plot(alphas,nzcA,label=\"DataA\")\n",
    "plt.plot(alphas,nzcB,label=\"DataB\")\n",
    "plt.plot(alphas,nzcC,label=\"DataC\")     \n",
    "plt.legend(loc=\"lower left\")\n",
    "plt.ylabel('Number of Nonzero Coefficients')\n",
    "plt.xlabel('Alphas')\n",
    "plt.suptitle('Number of Nonzero Coefficients vs Alphas')\n",
    "plt.show() \n",
    "\n",
    "\n",
    "print('------------------- PART (B)---------------------------')\n",
    "\n",
    "minvalA= min(nzcA)\n",
    "minvalB= min(nzcB)\n",
    "minvalC= min(nzcC)\n",
    "minindexA=0\n",
    "minindexB=0\n",
    "minindexC=0\n",
    "\n",
    "#find and save the index for those lowest values\n",
    "for i in range(0,np.size(nzcA)):\n",
    "    if minvalA==nzcA[i]:\n",
    "        minindexA=i\n",
    "        break\n",
    "for i in range(0,np.size(nzcB)):\n",
    "    if minvalB==nzcB[i]:\n",
    "        minindexB=i\n",
    "        break\n",
    "for i in range(0,np.size(nzcC)):\n",
    "    if minvalC==nzcC[i]:\n",
    "        minindexC=i\n",
    "        break\n",
    "        \n",
    "\n",
    "        \n",
    "w_ba=alphas[minindexA]\n",
    "w_bb=alphas[minindexB]\n",
    "w_bc=alphas[minindexC]\n",
    "\n",
    "#print(\"Min indexes\")\n",
    "#print(minindexA)\n",
    "#print(minindexB)\n",
    "#print(minindexC)\n",
    "print(\"𝜆 that yields the minimum number of non-zero coefficients, w_b's:\")\n",
    "print(\"Data A: \",w_ba)\n",
    "print(\"Data B: \",w_bb)\n",
    "print(\"Data C: \",w_bc)\n",
    "\n",
    "print(\"Quantity of non-zero coefficients for those cases:\")\n",
    "print(\"Data A:\",minvalA)\n",
    "print(\"Data B:\",minvalB)\n",
    "print(\"Data C:\",minvalC)\n",
    "\n",
    "\n",
    "print('------------------- PART (C)---------------------------')\n",
    "mteA=[]\n",
    "mteB=[]\n",
    "mteC=[]\n",
    "\n",
    "for i in range(0,np.size(alphas)):\n",
    "    a1= Lasso(alphas[i],data_a)\n",
    "    a,j= a1.fit()\n",
    "    mteA.append(j)\n",
    "for i in range(0,np.size(alphas)):\n",
    "    a2= Lasso(alphas[i],data_b)\n",
    "    a,j= a2.fit()\n",
    "    mteB.append(j)\n",
    "for i in range(0,np.size(alphas)):\n",
    "    a3= Lasso(alphas[i],data_c)\n",
    "    a,j= a3.fit()\n",
    "    mteC.append(j)\n",
    "\n",
    "print(mteA)\n",
    "print(mteB)\n",
    "print(mteC)\n",
    "\n",
    "plt.plot(alphas,mteA,label=\"DataA\")\n",
    "plt.plot(alphas,mteB,label=\"DataB\")\n",
    "plt.plot(alphas,mteC,label=\"DataC\")     \n",
    "plt.legend(loc=\"lower left\")\n",
    "plt.ylabel('Mean-Squared-Error')\n",
    "plt.xlabel('Alphas')\n",
    "plt.suptitle('Test Error(Mean-Squared-Error) vs Alphas')\n",
    "plt.show() \n",
    "\n",
    "print('------------------- PART (D)---------------------------')\n",
    "minvalA2= min(mteA)\n",
    "minvalB2= min(mteB)\n",
    "minvalC2= min(mteC)\n",
    "minindexA2=0\n",
    "minindexB2=0\n",
    "minindexC2=0\n",
    "\n",
    "\n",
    "for i in range(0,np.size(mteA)):\n",
    "    if minvalA==mteA[i]:\n",
    "        minindexA2=i\n",
    "        break\n",
    "for i in range(0,np.size(mteB)):\n",
    "    if minvalB==mteB[i]:\n",
    "        minindexB2=i\n",
    "        break\n",
    "for i in range(0,np.size(mteC)):\n",
    "    if minvalC==mteC[i]:\n",
    "        minindexC2=i\n",
    "        break\n",
    "             \n",
    "w_da=alphas[minindexA2]\n",
    "w_db=alphas[minindexB2]\n",
    "w_dc=alphas[minindexC2]\n",
    "print(\"𝜆 that yields the minimum test error, w_d's:\")\n",
    "print(\"Data A: \",w_da)\n",
    "print(\"Data B: \",w_db)\n",
    "print(\"Data C: \",w_dc)\n",
    "\n",
    "print(\"Quantity of non-zero coefficients for those cases:\")\n",
    "print(\"Data A:\",nzcA[minindexA2])\n",
    "print(\"Data B:\",nzcB[minindexB2])\n",
    "print(\"Data C:\",nzcC[minindexC2])\n",
    "\n",
    "print('------------------- PART (E)---------------------------')\n",
    "zcA=[]\n",
    "alphas2 =[0.01, 0.05, 0.1, 0.2, 0.3,0.4,0.5,0.6,0.7,0.8,0.9,1]\n",
    "#print(alphas2)\n",
    "for i in range(0,np.size(alphas2)):\n",
    "    #print (i)\n",
    "    a1= Lasso(alphas2[i],data_a)\n",
    "    a,j,b= a1.fit(True)\n",
    "    #print(b)\n",
    "    zcA.append(b)\n",
    "\n",
    "\n",
    "#print(zcA)\n",
    "plt.plot(alphas2,zcA,label=\"DataA\")   \n",
    "plt.legend(loc=\"lower left\")\n",
    "plt.ylabel('Number of Zero-value Coefficients')\n",
    "plt.xlabel('Alphas')\n",
    "plt.suptitle('Number of Zero Coefficients vs Alphas')\n",
    "plt.show() \n",
    "\n",
    "print(\"After Lambda=0.1, all of the coefficients become Zero. The coefficients stay zero as Lambda increases further \")\n"
   ]
  },
  {
   "cell_type": "code",
   "execution_count": 166,
   "metadata": {},
   "outputs": [
    {
     "name": "stdout",
     "output_type": "stream",
     "text": [
      "------------------- PART (A)---------------------------\n",
      "[20, 20, 20, 20, 20]\n",
      "[9, 9, 9, 9, 9]\n",
      "[10, 10, 10, 10, 10]\n"
     ]
    },
    {
     "data": {
      "image/png": "[encoded data removed]",
      "text/plain": [
       "<Figure size 432x288 with 1 Axes>"
      ]
     },
     "metadata": {
      "needs_background": "light"
     },
     "output_type": "display_data"
    },
    {
     "name": "stdout",
     "output_type": "stream",
     "text": [
      "------------------- PART (B)---------------------------\n",
      "𝜆 that yields the minimum number of non-zero coefficients, w_b's:\n",
      "Data A:  1\n",
      "Data B:  1\n",
      "Data C:  1\n",
      "Quantity of non-zero coefficients for those cases:\n",
      "Data A: 20\n",
      "Data B: 9\n",
      "Data C: 10\n",
      "------------------- PART (C)---------------------------\n",
      "[0.9797121269462704, 0.9764085516804302, 0.9734829302281564, 0.9686796996006721, 0.9519096320097676]\n",
      "[0.0036802254541537607, 0.03971462323639101, 0.04968027530949831, 0.06393518128301373, 0.1192109436729029]\n",
      "[1.8914788719289497, 1.8874768665601396, 1.8843628251964846, 1.8797428064480364, 1.86611748037261]\n"
     ]
    },
    {
     "data": {
      "image/png": "[encoded data removed]",
      "text/plain": [
       "<Figure size 432x288 with 1 Axes>"
      ]
     },
     "metadata": {
      "needs_background": "light"
     },
     "output_type": "display_data"
    },
    {
     "name": "stdout",
     "output_type": "stream",
     "text": [
      "------------------- PART (D)---------------------------\n",
      "𝜆 that yields the minimum test error, w_d's:\n",
      "Data A:  1\n",
      "Data B:  1\n",
      "Data C:  1\n",
      "Quantity of non-zero coefficients for those cases:\n",
      "Data A: 16\n",
      "Data B: 9\n",
      "Data C: 10\n",
      "------------------- PART (E)---------------------------\n"
     ]
    },
    {
     "data": {
      "image/png": "[encoded data removed]",
      "text/plain": [
       "<Figure size 432x288 with 1 Axes>"
      ]
     },
     "metadata": {
      "needs_background": "light"
     },
     "output_type": "display_data"
    },
    {
     "name": "stdout",
     "output_type": "stream",
     "text": [
      "Regardless of the Lambda used, the number of Zero-valued coefficients never decreases, and it does not appear that the quantitity will ever reach zero. \n"
     ]
    }
   ],
   "source": [
    "from sklearn.linear_model import Ridge\n",
    "from sklearn.metrics import mean_squared_error\n",
    "from sklearn.metrics import accuracy_score\n",
    "\n",
    "class Ridge:\n",
    "    def __init__(self, gamma, data):\n",
    "        self.gamma = gamma\n",
    "        self.data = data\n",
    "        \n",
    "        \n",
    "    def fit(self,zeroesTF=False):\n",
    "        '''\n",
    "        Here you must fit a Lasso model, train it using the data you have in self.data, \n",
    "        specifically the training part, for the specified value of gamma in self.gamma. \n",
    "        Calculate the number of non-zero coefficients in the model weights. Then,\n",
    "        test the trained model on the testing part of the data in self.data and calculate the\n",
    "        Root mean square error between the predicted values and the actual values of target variable.\n",
    "        \n",
    "        RETURN : \n",
    "            num_nonzero_coeff : number of non-zero coefficients in the model weights\n",
    "            mean_squared_err : Root mean square error between the predicted values and the \n",
    "            actual values of target variable\n",
    "        '''\n",
    "        Rmodel = linear_model.Ridge(self.gamma)\n",
    "        Rmodel.fit(self.data.train_x,self.data.train_y)\n",
    "        \n",
    "        #rint(Lmodel.coef_)\n",
    "       #print(\"nonzero weights count= \", np.count_nonzero(Lmodel.coef_))\n",
    "        num_nonzero_coeff=np.count_nonzero(Rmodel.coef_)\n",
    "        num_zero_coeff=np.size(Rmodel.coef_)-num_nonzero_coeff\n",
    "        \n",
    "        #Lmodel.predict(self.data.test_x)\n",
    "        #print(Lmodel.predict(self.data.test_x))\n",
    "        \n",
    "        #From https://www.includehelp.com/ml-ai/root-mean-square%20error-rmse.aspx\n",
    "        mean_squared_err=mean_squared_error(self.data.test_y, Rmodel.predict(self.data.test_x))\n",
    "        #mean_squared_err=np.sqrt(np.mean((self.data.test_y-Lmodel.predict(self.data.test_x))**2))\n",
    "        \n",
    "        #print(\"mse=\", mean_squared_err)\n",
    "        \n",
    "        #print(Lmodel.intercept_)\n",
    "        #,mean_squared_err;\n",
    "        if zeroesTF==False:\n",
    "            return num_nonzero_coeff,mean_squared_err\n",
    "        else:\n",
    "            return num_nonzero_coeff,mean_squared_err,num_zero_coeff\n",
    "\n",
    "alphas = [1, 50, 100, 200, 1000]\n",
    "print('------------------- PART (A)---------------------------')\n",
    "nzcA_ridge=[]\n",
    "nzcB_ridge=[]\n",
    "nzcC_ridge=[]\n",
    "\n",
    "for i in range(0,np.size(alphas)):\n",
    "    a1= Ridge(alphas[i],data_a)\n",
    "    a,j= a1.fit()\n",
    "    nzcA_ridge.append(a)\n",
    "for i in range(0,np.size(alphas)):\n",
    "    a2= Ridge(alphas[i],data_b)\n",
    "    a,j= a2.fit()\n",
    "    nzcB_ridge.append(a)\n",
    "for i in range(0,np.size(alphas)):\n",
    "    a3= Ridge(alphas[i],data_c)\n",
    "    a,j= a3.fit()\n",
    "    nzcC_ridge.append(a)\n",
    "\n",
    "print(nzcA_ridge)\n",
    "print(nzcB_ridge)\n",
    "print(nzcC_ridge)\n",
    "\n",
    "plt.plot(alphas,nzcA_ridge,label=\"DataA\")\n",
    "plt.plot(alphas,nzcB_ridge,label=\"DataB\")\n",
    "plt.plot(alphas,nzcC_ridge,label=\"DataC\")     \n",
    "plt.legend(loc=\"upper right\")\n",
    "plt.ylabel('Number of Nonzero Coefficients')\n",
    "plt.xlabel('Alphas')\n",
    "plt.suptitle('Number of Nonzero Coefficients vs Alphas')\n",
    "plt.show() \n",
    "\n",
    "print('------------------- PART (B)---------------------------')\n",
    "minvalA_ridge= min(nzcA_ridge)\n",
    "minvalB_ridge= min(nzcB_ridge)\n",
    "minvalC_ridge= min(nzcC_ridge)\n",
    "minindexA_ridge=0\n",
    "minindexB_ridge=0\n",
    "minindexC_ridge=0\n",
    "\n",
    "#find and save the index for those lowest values\n",
    "for i in range(0,np.size(nzcA_ridge)):\n",
    "    if minvalA_ridge==nzcA_ridge[i]:\n",
    "        minindexA_ridge=i\n",
    "        break\n",
    "for i in range(0,np.size(nzcB_ridge)):\n",
    "    if minvalB_ridge==nzcB_ridge[i]:\n",
    "        minindexB_ridge=i\n",
    "        break\n",
    "for i in range(0,np.size(nzcC_ridge)):\n",
    "    if minvalC_ridge==nzcC_ridge[i]:\n",
    "        minindexC_ridge=i\n",
    "        break\n",
    "        \n",
    "\n",
    "        \n",
    "w_ba_ridge=alphas[minindexA_ridge]\n",
    "w_bb_ridge=alphas[minindexB_ridge]\n",
    "w_bc_ridge=alphas[minindexC_ridge]\n",
    "\n",
    "#print(\"Min indexes\")\n",
    "#print(minindexA)\n",
    "#print(minindexB)\n",
    "#print(minindexC)\n",
    "print(\"𝜆 that yields the minimum number of non-zero coefficients, w_b's:\")\n",
    "print(\"Data A: \",w_ba_ridge)\n",
    "print(\"Data B: \",w_bb_ridge)\n",
    "print(\"Data C: \",w_bc_ridge)\n",
    "\n",
    "print(\"Quantity of non-zero coefficients for those cases:\")\n",
    "print(\"Data A:\",minvalA_ridge)\n",
    "print(\"Data B:\",minvalB_ridge)\n",
    "print(\"Data C:\",minvalC_ridge)\n",
    "print('------------------- PART (C)---------------------------')\n",
    "mteA_ridge=[]\n",
    "mteB_ridge=[]\n",
    "mteC_ridge=[]\n",
    "\n",
    "for i in range(0,np.size(alphas)):\n",
    "    a1= Ridge(alphas[i],data_a)\n",
    "    a,j= a1.fit()\n",
    "    mteA_ridge.append(j)\n",
    "for i in range(0,np.size(alphas)):\n",
    "    a2= Ridge(alphas[i],data_b)\n",
    "    a,j= a2.fit()\n",
    "    mteB_ridge.append(j)\n",
    "for i in range(0,np.size(alphas)):\n",
    "    a3= Ridge(alphas[i],data_c)\n",
    "    a,j= a3.fit()\n",
    "    mteC_ridge.append(j)\n",
    "\n",
    "print(mteA_ridge)\n",
    "print(mteB_ridge)\n",
    "print(mteC_ridge)\n",
    "\n",
    "plt.plot(alphas,mteA,label=\"DataA\")\n",
    "plt.plot(alphas,mteB,label=\"DataB\")\n",
    "plt.plot(alphas,mteC,label=\"DataC\")     \n",
    "plt.legend(loc=\"upper right\")\n",
    "plt.ylabel('Mean-Squared-Error')\n",
    "plt.xlabel('Alphas')\n",
    "plt.suptitle('Test Error(Mean-Squared-Error) vs Alphas')\n",
    "plt.show() \n",
    "print('------------------- PART (D)---------------------------')\n",
    "minvalA2= min(mteA)\n",
    "minvalB2= min(mteB)\n",
    "minvalC2= min(mteC)\n",
    "minindexA2=0\n",
    "minindexB2=0\n",
    "minindexC2=0\n",
    "\n",
    "\n",
    "for i in range(0,np.size(mteA)):\n",
    "    if minvalA==mteA[i]:\n",
    "        minindexA2=i\n",
    "        break\n",
    "for i in range(0,np.size(mteB)):\n",
    "    if minvalB==mteB[i]:\n",
    "        minindexB2=i\n",
    "        break\n",
    "for i in range(0,np.size(mteC)):\n",
    "    if minvalC==mteC[i]:\n",
    "        minindexC2=i\n",
    "        break\n",
    "             \n",
    "w_da_ridge=alphas[minindexA2]\n",
    "w_db_ridge=alphas[minindexB2]\n",
    "w_dc_ridge=alphas[minindexC2]\n",
    "print(\"𝜆 that yields the minimum test error, w_d's:\")\n",
    "print(\"Data A: \",w_da_ridge)\n",
    "print(\"Data B: \",w_db_ridge)\n",
    "print(\"Data C: \",w_dc_ridge)\n",
    "\n",
    "print(\"Quantity of non-zero coefficients for those cases:\")\n",
    "print(\"Data A:\",nzcA[minindexA2])\n",
    "print(\"Data B:\",nzcB[minindexB2])\n",
    "print(\"Data C:\",nzcC[minindexC2])\n",
    "print('------------------- PART (E)---------------------------')\n",
    "\n",
    "zcA=[]\n",
    "alphas2 =[0.01, 0.05, 0.1, 0.2, 0.3,0.4,0.5,0.6,0.7,0.8,0.9,1]\n",
    "#print(alphas2)\n",
    "for i in range(0,np.size(alphas2)):\n",
    "    #print (i)\n",
    "    a1= Ridge(alphas2[i],data_a)\n",
    "    a,j,b= a1.fit(True)\n",
    "    #print(b)\n",
    "    zcA.append(b)\n",
    "\n",
    "\n",
    "#print(zcA)\n",
    "plt.plot(alphas2,zcA,label=\"DataA\")   \n",
    "plt.legend(loc=\"lower left\")\n",
    "plt.ylabel('Number of Zero-value Coefficients')\n",
    "plt.xlabel('Alphas')\n",
    "plt.suptitle('Number of Zero Coefficients vs Alphas')\n",
    "plt.show() \n",
    "\n",
    "print(\"Regardless of the Lambda used, the number of Zero-valued coefficients never decreases, and it does not appear that the quantitity will ever reach zero. \")\n"
   ]
  },
  {
   "cell_type": "markdown",
   "metadata": {},
   "source": [
    "3. [10 pts] Compare the two algorithms on each data set: compare the number of non-zero coordinates of the $\\mathbf w_d$'s, and compare the test error rates of the $\\mathbf w_b$'s. Report your results and comment on them."
   ]
  },
  {
   "cell_type": "markdown",
   "metadata": {},
   "source": [
    "_Your Answer Here_\n",
    "For Non-zero coordinates- In Lasso regression, the quantity of Zero-valued coordinates decreases to zero after Lambda=0.1 However, in Ridge regression, none of the coordinates ever have the value of zero, regardless of Lambda. \n",
    "\n",
    "For Test error rates- Lasso and Ridge Regressions resulted in very similar test errors.  In Lasso regression, Data sets A and C started around 1.09 and ,2.13 and decreased by a minute about as Alpha increased.Data set B's error linearly increased from .003 to 0.12, and does not appear to even out. In Ridge regression, the errors started at roughly the same values. Data sets A and C appear to have learly identical curves as Lasso regression, but data set B appears to increase from 0.003 to .039 at the first increase in alpha, and then only gradually continues to increase to .119 as Alpha increases. "
   ]
  },
  {
   "cell_type": "markdown",
   "metadata": {},
   "source": [
    "## Part 2: Visualizing Data and Decision Boundaries for different kernels - 20 points"
   ]
  },
  {
   "cell_type": "markdown",
   "metadata": {},
   "source": [
    "We've also been exploring the world of support vector machines and Kernels, so to understand these systems a little better, let's start by building a few ourselves."
   ]
  },
  {
   "cell_type": "markdown",
   "metadata": {},
   "source": [
    "### A. Training SVM with Linear Kernel (Dataset 1)"
   ]
  },
  {
   "cell_type": "code",
   "execution_count": 17,
   "metadata": {},
   "outputs": [
    {
     "data": {
      "image/png": "[encoded data removed]",
      "text/plain": [
       "<Figure size 432x288 with 1 Axes>"
      ]
     },
     "metadata": {
      "needs_background": "light"
     },
     "output_type": "display_data"
    }
   ],
   "source": [
    "import numpy as np\n",
    "import scipy.io as sio\n",
    "import matplotlib.pyplot as plt\n",
    "\n",
    "from plot_data import plot_data\n",
    "\n",
    "\n",
    "# Load from data1\n",
    "mat_data = sio.loadmat('./data/data1.mat')\n",
    "X = mat_data['X']\n",
    "y = mat_data['y'].ravel()\n",
    "\n",
    "# Plot training data\n",
    "plt.figure()\n",
    "plot_data(X, y)\n",
    "plt.xlim([0, 4.5])\n",
    "plt.ylim([1.5, 5])\n",
    "plt.title(\"Dataset 1\")\n",
    "plt.show()\n",
    "\n"
   ]
  },
  {
   "cell_type": "markdown",
   "metadata": {},
   "source": [
    "**A:** [10 pts] In `data1.mat`, most of the positive and negative examples can be separated by a single line. We'll train an SVM with a linear kernel (look at `sklearn.svm.LinearSVC`) with C = 1 and plot the decision boundary using `visualize_boundary_linear(X, y, clf)`. `clf` is the SVM classifier. For the classifier, you should use the scikit-learn implementation. Add the decision boundary, uncomment the visualization, and verify it in the graph below."
   ]
  },
  {
   "cell_type": "code",
   "execution_count": 20,
   "metadata": {},
   "outputs": [
    {
     "data": {
      "image/png": "[encoded data removed]",
      "text/plain": [
       "<Figure size 432x288 with 1 Axes>"
      ]
     },
     "metadata": {
      "needs_background": "light"
     },
     "output_type": "display_data"
    }
   ],
   "source": [
    "# SOLUTION \n",
    "from sklearn import svm\n",
    "from sklearn.svm import LinearSVC\n",
    "from sklearn.datasets import make_classification\n",
    "from visualize_boundary_linear import visualize_boundary_linear\n",
    "\n",
    "### START CODE HERE ### (approx. 3 lines)\n",
    "C = 1\n",
    "#X, y = make_classification(n_features=102,random_state=0)\n",
    "clf = LinearSVC(C=C,random_state=0)\n",
    "clf.fit(X, y)\n",
    "### END CODE HERE ### \n",
    "\n",
    "\n",
    "plt.figure()\n",
    "visualize_boundary_linear(X, y, clf)\n",
    "plt.xlim([0, 4.5])\n",
    "plt.ylim([1.5, 5])\n",
    "plt.title(\"Dataset 1\")\n",
    "plt.show()"
   ]
  },
  {
   "cell_type": "markdown",
   "metadata": {},
   "source": [
    "### B. Training SVM with RBF Kernel (Dataset 2)"
   ]
  },
  {
   "cell_type": "code",
   "execution_count": 21,
   "metadata": {},
   "outputs": [
    {
     "data": {
      "image/png": "[encoded data removed]",
      "text/plain": [
       "<Figure size 432x288 with 1 Axes>"
      ]
     },
     "metadata": {
      "needs_background": "light"
     },
     "output_type": "display_data"
    }
   ],
   "source": [
    "# Load from data2\n",
    "mat_data = sio.loadmat('./data/data2.mat')\n",
    "X = mat_data['X']\n",
    "y = mat_data['y'].ravel()\n",
    "\n",
    "# Plot training data\n",
    "plt.figure()\n",
    "plot_data(X, y)\n",
    "plt.xlim([0, 1])\n",
    "plt.ylim([0.4, 1])\n",
    "plt.title(\"Dataset 2\")\n",
    "plt.show()"
   ]
  },
  {
   "cell_type": "markdown",
   "metadata": {},
   "source": [
    "**B** [10 pts] In `data2.mat`, the positive and negative data points are not linearly separable. For this dataset, construct an SVM classifier with a Gaussian kernel (look at `sklearn.svm.SVC`) to learn a non-linear decision boundary. You should use the scikit-learn implementation for the same. To plot the decision boundary use `visualize_boundary(X, y, clf)`. As before, implement the decision boundary, uncomment the visualization, and verify it in the graph below."
   ]
  },
  {
   "cell_type": "code",
   "execution_count": 22,
   "metadata": {},
   "outputs": [
    {
     "name": "stderr",
     "output_type": "stream",
     "text": [
      "/home/scott/Desktop/Machine Learning/hw3/visualize_boundary.py:29: UserWarning: No contour levels were found within the data range.\n",
      "  plt.contour(X1, X2, vals, levels=[0])\n"
     ]
    },
    {
     "data": {
      "image/png": "[encoded data removed]",
      "text/plain": [
       "<Figure size 432x288 with 1 Axes>"
      ]
     },
     "metadata": {
      "needs_background": "light"
     },
     "output_type": "display_data"
    }
   ],
   "source": [
    "from sklearn.svm import SVC\n",
    "from visualize_boundary import visualize_boundary\n",
    "#https://scikit-learn.org/stable/modules/generated/sklearn.svm.LinearSVC.html\n",
    "# SVM Parameters to be used\n",
    "C = 100\n",
    "gamma = 10\n",
    "kernel = 'rbf'\n",
    "\n",
    "### START CODE HERE ### (approx. 3 lines)\n",
    "clf = SVC(C=C,gamma=gamma,kernel=kernel)\n",
    "clf.fit(X, y)\n",
    "### END CODE HERE ### \n",
    "\n",
    "plt.figure()\n",
    "visualize_boundary(X, y, clf)\n",
    "plt.xlim([0, 1])\n",
    "plt.ylim([0.4, 1])\n",
    "plt.title(\"Dataset 2\")\n",
    "plt.show()"
   ]
  },
  {
   "cell_type": "markdown",
   "metadata": {},
   "source": [
    "## Part 3: Kernel Perceptron - 40 points"
   ]
  },
  {
   "cell_type": "markdown",
   "metadata": {},
   "source": [
    "Now that we've seen the SKLearn implementation of some different kernels, we'll be working to implement some of our own kernel transformations, but we'll work within the perceptron space. Implement the Kernel Perceptron as described in the lecture using different kernel functions (Linear, Polynomial, and Gaussian RBF). Use the training and test data provided below to train and test your implementation. Report the error rate for each kernel function."
   ]
  },
  {
   "cell_type": "markdown",
   "metadata": {},
   "source": [
    "**A:** [20 pts] Implement the kernel functions below:"
   ]
  },
  {
   "cell_type": "code",
   "execution_count": 1,
   "metadata": {},
   "outputs": [],
   "source": [
    "import numpy as np\n",
    "import math\n",
    "from numpy import linalg\n",
    "\n",
    "def linear_kernel(x1, x2):\n",
    "    #print(np.dot(x1,x2))\n",
    "    return np.dot(x1,x2)\n",
    "\n",
    "def polynomial_kernel(x, y, p = 3,c=1):\n",
    "    return (np.dot(x,y)+c)**p\n",
    "    \n",
    "    \n",
    "def gaussian_kernel(x, y, sigma = 0.5):\n",
    "    \n",
    "    k=np.exp((-np.linalg.norm(x-y)**2)/(2*(sigma**2)))\n",
    "    return k"
   ]
  },
  {
   "cell_type": "code",
   "execution_count": 2,
   "metadata": {},
   "outputs": [
    {
     "name": "stderr",
     "output_type": "stream",
     "text": [
      "...\n",
      "----------------------------------------------------------------------\n",
      "Ran 3 tests in 0.006s\n",
      "\n",
      "OK\n"
     ]
    },
    {
     "data": {
      "text/plain": [
       "<unittest.runner.TextTestResult run=3 errors=0 failures=0>"
      ]
     },
     "execution_count": 2,
     "metadata": {},
     "output_type": "execute_result"
    }
   ],
   "source": [
    "import unittest\n",
    "\n",
    "class TestKernels(unittest.TestCase):\n",
    "    \n",
    "    def setUp(self):\n",
    "        self.x1 = np.array([1, 2, 1])\n",
    "        self.x2 = np.array([0, 4, -1])\n",
    "        \n",
    "    def test0(self):\n",
    "        \n",
    "        #WARNING : DO NOT CHANGE THE UNIT TESTS\n",
    "        #Test the linear kernel\n",
    "        \n",
    "        self.assertEqual(linear_kernel(self.x1, self.x2), 7)\n",
    "    \n",
    "    def test_polynomial_kernel(self):\n",
    "        \n",
    "        #WARNING : DO NOT CHANGE THE UNIT TESTS\n",
    "        #Test the polynomial kernel\n",
    "        \n",
    "        self.assertEqual(polynomial_kernel(self.x1, self.x2), 512)\n",
    "         \n",
    "    def test_gaussian_kernel(self):\n",
    "        \n",
    "        #WARNING : DO NOT CHANGE THE UNIT TESTS\n",
    "        #Test the gaussian kernel\n",
    "        \n",
    "        self.assertAlmostEqual(gaussian_kernel(self.x1, self.x2) * 10 ** 8, 1.52299, 4)\n",
    "    \n",
    "tests = TestKernels()\n",
    "tests_to_run = unittest.TestLoader().loadTestsFromModule(tests)\n",
    "unittest.TextTestRunner().run(tests_to_run)\n",
    "            "
   ]
  },
  {
   "cell_type": "markdown",
   "metadata": {},
   "source": [
    "**B:** [20 pts] Implement the following methods of the `KernelPerceptron` class. The `__init__` takes also as input the kernel to use. You are allowed to introduce new class variables/methods.\n",
    "\n",
    "* Implement the `fit` method. Taking as input the training data, it learns the model parameters\n",
    "* Implement the `predict` method which takes as input new examples and returns the estimated label "
   ]
  },
  {
   "cell_type": "code",
   "execution_count": 89,
   "metadata": {},
   "outputs": [],
   "source": [
    "class KernelPerceptron:\n",
    "    def __init__(self, kernel = linear_kernel, Niter = 1):\n",
    "        \n",
    "        self.kernel = kernel\n",
    "        self.Niter = Niter # Number of Iterations\n",
    "        self.support_vector_x = None\n",
    "        self.support_vector_y = None\n",
    "        \n",
    "    def fit(self, X, y):\n",
    "        '''\n",
    "        Estimate model parameters i.e the support vectors here and store them in the\n",
    "        class variable self.support_vector_x and self.support_vector_y\n",
    "        '''\n",
    "        #print(X)\n",
    "        #print(X[0])\n",
    "        '''\n",
    "        if self.kernel == linear_kernel:\n",
    "            print(\"linear_kernel\")\n",
    "        elif self.kernel == polynomial_kernel:\n",
    "            print(\"polynomial_kernel\")\n",
    "        elif self.kernel == gaussian_kernel:\n",
    "            print(\"gaussian_kernel\")\n",
    "        else:\n",
    "            print(\"error\")\n",
    "        '''\n",
    "        \n",
    "        self.alphas=np.zeros(y.size)\n",
    "        #sv_y_temp==np.zeros(y.size)\n",
    "        #, dtype=np.float64\n",
    "        \n",
    "        k=np.zeros((y.size,y.size))\n",
    "        for n in range(0,y.size):\n",
    "            for m in range(0,y.size):\n",
    "                if self.kernel == linear_kernel:\n",
    "                    k[n,m]=linear_kernel(X[n],X[m])\n",
    "                elif self.kernel == polynomial_kernel:\n",
    "                    k[n,m]=polynomial_kernel(X[n],X[m])\n",
    "                elif self.kernel == gaussian_kernel:\n",
    "                    k[n,m]=gaussian_kernel(X[n],X[m])\n",
    "                    \n",
    "        for epoch in range(0,self.Niter):\n",
    "            for i in range(0,y.size):\n",
    "                sv_y_temp=np.sign(np.sum(k[:,i]*self.alphas*y))\n",
    "                #print(i, \"sytemp=\",sv_y_temp, \"  support_vector_y=\",support_vector_y[i])\n",
    "                if sv_y_temp != y[i]:\n",
    "                    self.alphas[i]+=1    \n",
    "                    \n",
    "        #print(alphas)\n",
    "        \n",
    "        #print(\"nonzero alphas=\",np.count_nonzero(self.alphas))\n",
    "        \n",
    "        self.support_vector_x=np.zeros((np.count_nonzero(self.alphas),2))\n",
    "        self.support_vector_y=np.zeros(np.count_nonzero(self.alphas))\n",
    "        sv_index=0\n",
    "        for g in range(0,y.size):\n",
    "            if self.alphas[g]==1:\n",
    "                #print(\"yes\")\n",
    "                #print(\"X[g,:]=\", X[g,:])\n",
    "                #print(\"y[g]=\", y[g])\n",
    "                #nzcA.append(a)\n",
    "                self.support_vector_x[sv_index,:]= X[g,:]\n",
    "                self.support_vector_y[sv_index]=y[g]\n",
    "                sv_index+=1\n",
    "\n",
    "        \n",
    "        \n",
    "        #print(self.support_vector_x)\n",
    "        #print(self.support_vector_y)\n",
    "    \n",
    "        #return self.support_vector_x,self.support_vector_y\n",
    "        \n",
    "    def predict(self, X):\n",
    "        '''\n",
    "        Here X is a set of points. \n",
    "        RETURN : \n",
    "            y_predict : predicted labels for a set of points X\n",
    "        '''\n",
    "        #print(np.size(X))\n",
    "        #print(np.size(X[:,0])) \n",
    "\n",
    "        y_predict=np.zeros(np.size(X[:,0]))\n",
    "        kpredict=np.zeros((np.size(X[:,0]),np.size(self.support_vector_x[:,0])))\n",
    "         \n",
    "        for n in range(0,np.size(X[:,0])):\n",
    "            for m in range(0,np.size(self.support_vector_x[:,0])):\n",
    "                if self.kernel == linear_kernel:\n",
    "                    kpredict[n,m]=linear_kernel(X[n],self.support_vector_x[m])\n",
    "                    \n",
    "                elif self.kernel == polynomial_kernel:\n",
    "                    kpredict[n,m]=polynomial_kernel(X[n],self.support_vector_x[m])\n",
    "                elif self.kernel == gaussian_kernel:\n",
    "                    kpredict[n,m]=gaussian_kernel(X[n],self.support_vector_x[m]) \n",
    "          \n",
    "        \n",
    "        \n",
    "        if np.size(X[:,0])<np.size(self.support_vector_x[:,0]):\n",
    "             for i in range(0,np.size(X[:,0])):\n",
    "                #print(i)\n",
    "                #y_predict[i]=np.sign(np.sum(kpredict[:,i]*self.support_vector_y[i]))\n",
    "                #y_predict[i]=np.sign(np.sum(kpredict[:,i]*self.support_vector_y[i]))\n",
    "                y_predict[i]=np.sign(np.sum(kpredict[:,i]*self.support_vector_y[i]))\n",
    "                #print(kpredict[i,:])\n",
    "        else:    \n",
    "            for i in range(0,np.size(self.support_vector_x[:,0])):\n",
    "                #print(i)\n",
    "                y_predict[i]=np.sign(np.sum(kpredict[:,i]*self.support_vector_y[i]))\n",
    "                #print(kpredict[i,:])\n",
    "         \n",
    "        '''                     \n",
    "\n",
    "        \n",
    "        for i in range(0,np.size(X[:,0])):\n",
    "                #y_predict[i]=np.sign(np.sum(kpredict[:,i]*self.support_vector_y[i]))\n",
    "                sumtemp=0\n",
    "                for p in range(0,np.size(self.support_vector_x[:,0])):\n",
    "                   # sumtemp=kpredict[X[i],self.support_vector_x[p]]*self.support_vector_y[p]  \n",
    "                    #sumtemp=kpredict[X[i],self.support_vector_x[p]]*self.support_vector_y[p]  \n",
    "                    sumtemp+=self.alphas[p]*self.kernel(X[i],self.support_vector_x[p])*self.support_vector_y[p]\n",
    "                    \n",
    "                    \n",
    "                y_predict[i]=np.sign(sumtemp)\n",
    "         '''        \n",
    "\n",
    "                \n",
    "\n",
    "                \n",
    "        \n",
    "        return y_predict"
   ]
  },
  {
   "cell_type": "markdown",
   "metadata": {},
   "source": [
    "##  Solving a new classification problem using SVM"
   ]
  },
  {
   "cell_type": "markdown",
   "metadata": {},
   "source": [
    "We are using the IRIS Dataset for this classification task. We have created a binary classification problem to determine whether a given flower is a setosa or not. To create this, we pre-processed the labels to create a label vector where setosa’s label is unchanged (i.e. its label is 1), but both versicolor and virginica are now labeled as -1. The data contains two out of the four attributes, petal width and petal length.We are going to use this dataset to test our Kernel Perceptron\n",
    "<br>\n",
    "\n",
    "<img src=\"wide_iris.png\" alt=\"Drawing\" style=\"width: 600px;\"/>\n",
    "\n",
    "<br>"
   ]
  },
  {
   "cell_type": "code",
   "execution_count": 90,
   "metadata": {},
   "outputs": [],
   "source": [
    "from scipy.io import loadmat\n",
    "class Data:\n",
    "    def __init__(self):\n",
    "        ff = lambda x,y : loadmat(x)[y]\n",
    "        \n",
    "        self.X_train = ff(\"data/iris_3/train_data.mat\", \"train_data\")\n",
    "        self.y_train = ff(\"data/iris_3/train_labels.mat\", \"train_labels\").flatten()\n",
    "        \n",
    "        self.X_test = ff(\"data/iris_3/test_data.mat\", \"test_data\")\n",
    "        self.y_test = ff(\"data/iris_3/test_labels.mat\", \"test_labels\").flatten()\n",
    "        \n",
    "data = Data()\n",
    "\n",
    "\n",
    "\n",
    "#print(data.X_train.shape)\n",
    "#print(data.y_train.shape)\n",
    "#print(data.X_test.shape)\n",
    "#print(data.y_test.shape)\n",
    "\n"
   ]
  },
  {
   "cell_type": "markdown",
   "metadata": {},
   "source": [
    "**C:** Report the test error as a percentage for each kernel function for `Niter = 20`"
   ]
  },
  {
   "cell_type": "code",
   "execution_count": 91,
   "metadata": {},
   "outputs": [
    {
     "name": "stdout",
     "output_type": "stream",
     "text": [
      "**Linear Kernel**  46.666666666666664 %\n",
      "**Polynomial Kernel**  60.0 %\n",
      "**Gaussian Kernel**  20.0 %\n"
     ]
    }
   ],
   "source": [
    "from sklearn.metrics import accuracy_score\n",
    "\n",
    "kern_L=KernelPerceptron()\n",
    "kern_L.fit(data.X_train,data.y_train)\n",
    "y_predL= kern_L.predict(data.X_test)\n",
    "print(\"**Linear Kernel** \",(100*accuracy_score(data.y_test, y_predL)),\"%\")\n",
    "      \n",
    "\n",
    "kern_P=KernelPerceptron(polynomial_kernel)\n",
    "kern_P.fit(data.X_train,data.y_train)\n",
    "y_predP= kern_P.predict(data.X_test)\n",
    "print(\"**Polynomial Kernel** \",(100*accuracy_score(data.y_test, y_predP)),\"%\") \n",
    "\n",
    "kern_G=KernelPerceptron(gaussian_kernel)\n",
    "kern_G.fit(data.X_train,data.y_train)\n",
    "y_predG= kern_G.predict(data.X_test)\n",
    "print(\"**Gaussian Kernel** \",(100*accuracy_score(data.y_test, y_predG)),\"%\") \n"
   ]
  },
  {
   "cell_type": "markdown",
   "metadata": {},
   "source": [
    "**Expected Output**: \n",
    "\n",
    "<table> \n",
    "    <tr>\n",
    "    <td>\n",
    "    **Linear Kernel**\n",
    "    </td>\n",
    "     <td>\n",
    "    40 %\n",
    "    </td>\n",
    "    </tr>\n",
    "      <tr>\n",
    "    <td>\n",
    "    **Polynomial Kernel**\n",
    "    </td>\n",
    "     <td>\n",
    "    6.67 %\n",
    "    </td>\n",
    "    </tr>\n",
    "      <tr>\n",
    "    <td>\n",
    "    **Gaussian Kernel**\n",
    "    </td>\n",
    "     <td>\n",
    "    6.67 %\n",
    "    </td>\n",
    "    </tr>\n",
    "\n",
    "</table> "
   ]
  },
  {
   "cell_type": "code",
   "execution_count": null,
   "metadata": {},
   "outputs": [],
   "source": []
  },
  {
   "cell_type": "code",
   "execution_count": null,
   "metadata": {},
   "outputs": [],
   "source": []
  }
 ],
 "metadata": {
  "kernelspec": {
   "display_name": "Python 3",
   "language": "python",
   "name": "python3"
  },
  "language_info": {
   "codemirror_mode": {
    "name": "ipython",
    "version": 3
   },
   "file_extension": ".py",
   "mimetype": "text/x-python",
   "name": "python",
   "nbconvert_exporter": "python",
   "pygments_lexer": "ipython3",
   "version": "3.6.9"
  }
 },
 "nbformat": 4,
 "nbformat_minor": 2
}
