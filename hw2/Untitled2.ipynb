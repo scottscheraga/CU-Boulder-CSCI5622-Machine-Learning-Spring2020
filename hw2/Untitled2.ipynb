{
 "cells": [
  {
   "cell_type": "code",
   "execution_count": 7,
   "metadata": {},
   "outputs": [
    {
     "name": "stdout",
     "output_type": "stream",
     "text": [
      "[[  0.   5.]\n",
      " [  1.   1.]\n",
      " [  2.   7.]\n",
      " [  3.   4.]\n",
      " [  4.   7.]\n",
      " [  5.   3.]\n",
      " [  6.  22.]\n",
      " [  7. 156.]\n",
      " [  8.   2.]\n",
      " [  9.  88.]]\n",
      "(10, 2)\n"
     ]
    }
   ],
   "source": [
    "import numpy as np\n",
    "\n",
    "acclist= np.zeros((10, 2)) \n",
    "acclist[:,1]= [5,1,7,4,7,3,22,156,2,88]\n",
    "acclist[:,0]= range(0,10)\n",
    "print(acclist)\n",
    "print(acclist.shape)"
   ]
  },
  {
   "cell_type": "code",
   "execution_count": 30,
   "metadata": {},
   "outputs": [
    {
     "name": "stdout",
     "output_type": "stream",
     "text": [
      "(array([7]),)\n",
      "7\n"
     ]
    }
   ],
   "source": [
    "\n",
    "yguess = np.where(acclist[:,1] == np.amax(acclist[:,1]))\n",
    "print(yguess)\n",
    "int1 = yguess[0]\n",
    "print(int1[0])\n"
   ]
  },
  {
   "cell_type": "code",
   "execution_count": 32,
   "metadata": {},
   "outputs": [
    {
     "name": "stdout",
     "output_type": "stream",
     "text": [
      "0\n",
      "1\n",
      "2\n",
      "3\n",
      "4\n",
      "5\n",
      "6\n",
      "7\n",
      "8\n",
      "9\n"
     ]
    }
   ],
   "source": [
    " return (weights0,weights1,weights2,weights3,weights4,weights5,weights6,weights7,weights8,weights9)"
   ]
  },
  {
   "cell_type": "code",
   "execution_count": 33,
   "metadata": {},
   "outputs": [
    {
     "name": "stdout",
     "output_type": "stream",
     "text": [
      "7\n"
     ]
    }
   ],
   "source": [
    "a=(45,2,6,67,7,78,)\n",
    "print(a[4])"
   ]
  },
  {
   "cell_type": "code",
   "execution_count": null,
   "metadata": {},
   "outputs": [],
   "source": []
  }
 ],
 "metadata": {
  "kernelspec": {
   "display_name": "Python 3",
   "language": "python",
   "name": "python3"
  },
  "language_info": {
   "codemirror_mode": {
    "name": "ipython",
    "version": 3
   },
   "file_extension": ".py",
   "mimetype": "text/x-python",
   "name": "python",
   "nbconvert_exporter": "python",
   "pygments_lexer": "ipython3",
   "version": "3.6.9"
  }
 },
 "nbformat": 4,
 "nbformat_minor": 4
}
